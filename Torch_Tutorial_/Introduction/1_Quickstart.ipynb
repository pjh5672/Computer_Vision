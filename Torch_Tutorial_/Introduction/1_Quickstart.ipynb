{
 "cells": [
  {
   "cell_type": "code",
   "execution_count": 1,
   "id": "bf070ecb",
   "metadata": {},
   "outputs": [],
   "source": [
    "import torch\n",
    "from torch import nn\n",
    "from torch.utils.data import DataLoader\n",
    "from torchvision import datasets\n",
    "from torchvision.transforms import ToTensor, Lambda, Compose\n",
    "import matplotlib.pyplot as plt"
   ]
  },
  {
   "cell_type": "markdown",
   "id": "b4a2ab4f",
   "metadata": {},
   "source": [
    "### 데이터 작업하기"
   ]
  },
  {
   "cell_type": "code",
   "execution_count": 2,
   "id": "d0602822",
   "metadata": {},
   "outputs": [],
   "source": [
    "training_data = datasets.FashionMNIST(root=\"data\",\n",
    "                                      train=True,\n",
    "                                      download=True,\n",
    "                                      transform=ToTensor())\n",
    "\n",
    "test_data = datasets.FashionMNIST(root=\"data\", \n",
    "                                  train=False, \n",
    "                                  download=True, \n",
    "                                  transform=ToTensor())"
   ]
  },
  {
   "cell_type": "code",
   "execution_count": 3,
   "id": "e911c557",
   "metadata": {},
   "outputs": [
    {
     "name": "stdout",
     "output_type": "stream",
     "text": [
      "shape of x [N, C, H, W]:  torch.Size([64, 1, 28, 28])\n",
      "shape of y:  torch.Size([64]) torch.int64\n"
     ]
    }
   ],
   "source": [
    "batch_size = 64\n",
    "\n",
    "train_dataloader = DataLoader(training_data, batch_size=batch_size)\n",
    "test_dataloader = DataLoader(test_data, batch_size=batch_size)\n",
    "\n",
    "for x, y in test_dataloader:\n",
    "    print(\"shape of x [N, C, H, W]: \", x.shape)\n",
    "    print(\"shape of y: \", y.shape, y.dtype)\n",
    "    break"
   ]
  },
  {
   "cell_type": "markdown",
   "id": "5d815ab3",
   "metadata": {},
   "source": [
    "### 모델 만들기"
   ]
  },
  {
   "cell_type": "code",
   "execution_count": 4,
   "id": "89a03912",
   "metadata": {},
   "outputs": [
    {
     "name": "stdout",
     "output_type": "stream",
     "text": [
      "Using cpu device\n"
     ]
    }
   ],
   "source": [
    "device = \"cuda\" if torch.cuda.is_available() else \"cpu\"\n",
    "print(\"Using {} device\".format(device))"
   ]
  },
  {
   "cell_type": "code",
   "execution_count": 5,
   "id": "5ca94fc3",
   "metadata": {},
   "outputs": [
    {
     "name": "stdout",
     "output_type": "stream",
     "text": [
      "NeuralNetwork(\n",
      "  (flatten): Flatten(start_dim=1, end_dim=-1)\n",
      "  (linear_relu_stack): Sequential(\n",
      "    (0): Linear(in_features=784, out_features=512, bias=True)\n",
      "    (1): ReLU()\n",
      "    (2): Linear(in_features=512, out_features=512, bias=True)\n",
      "    (3): ReLU()\n",
      "    (4): Linear(in_features=512, out_features=10, bias=True)\n",
      "    (5): ReLU()\n",
      "  )\n",
      ")\n"
     ]
    }
   ],
   "source": [
    "class NeuralNetwork(nn.Module):\n",
    "    def __init__(self):\n",
    "        super(NeuralNetwork, self).__init__()\n",
    "        self.flatten = nn.Flatten()\n",
    "        self.linear_relu_stack = nn.Sequential(nn.Linear(28*28, 512),\n",
    "                                               nn.ReLU(),\n",
    "                                               nn.Linear(512, 512),\n",
    "                                               nn.ReLU(),\n",
    "                                               nn.Linear(512, 10),\n",
    "                                               nn.ReLU())\n",
    "    \n",
    "    def forward(self, x):\n",
    "        x = self.flatten(x)\n",
    "        logits = self.linear_relu_stack(x)\n",
    "        return logits\n",
    "    \n",
    "model = NeuralNetwork().to(device)\n",
    "print(model)"
   ]
  },
  {
   "cell_type": "markdown",
   "id": "457d860a",
   "metadata": {},
   "source": [
    "### 모델 매개변수 최적화하기"
   ]
  },
  {
   "cell_type": "code",
   "execution_count": 6,
   "id": "9cc39456",
   "metadata": {},
   "outputs": [],
   "source": [
    "loss_fn = nn.CrossEntropyLoss()\n",
    "optimizer = torch.optim.SGD(model.parameters(), lr=1e-3)"
   ]
  },
  {
   "cell_type": "code",
   "execution_count": 7,
   "id": "a7f8a989",
   "metadata": {},
   "outputs": [],
   "source": [
    "def train(dataloader, model, loss_fn, optimizer):\n",
    "    size = len(dataloader.dataset)\n",
    "    \n",
    "    for batch, (x, y) in enumerate(dataloader):\n",
    "        x, y = x.to(device), y.to(device)\n",
    "        pred = model(x)\n",
    "        \n",
    "        loss = loss_fn(pred, y)\n",
    "        \n",
    "        optimizer.zero_grad()\n",
    "        loss.backward()\n",
    "        optimizer.step()\n",
    "        \n",
    "        if batch % 100 == 0:\n",
    "            loss, current = loss.item(), batch * len(x)\n",
    "            print(f\"loss: {loss:>7f} [{current:>5d}/{size:>5d}]\")"
   ]
  },
  {
   "cell_type": "code",
   "execution_count": 8,
   "id": "fa7847ec",
   "metadata": {},
   "outputs": [],
   "source": [
    "def test(dataloader, model, loss_fn):\n",
    "    size = len(dataloader.dataset)\n",
    "    num_batches = len(dataloader)\n",
    "    \n",
    "    model.eval()\n",
    "    test_loss, correct = 0, 0\n",
    "    \n",
    "    with torch.no_grad():\n",
    "        for x, y in dataloader:\n",
    "            x, y = x.to(device), y.to(device)\n",
    "            pred = model(x)\n",
    "            test_loss += loss_fn(pred, y).item()\n",
    "            correct += (pred.argmax(1) == y).type(torch.float).sum().item()\n",
    "    test_loss /= num_batches\n",
    "    correct /= size\n",
    "    print(f\"Test Error: \\nAccuracy: {(100*correct):>0.1f}%, Avg loss: {test_loss:>8f} \\n\")"
   ]
  },
  {
   "cell_type": "code",
   "execution_count": 9,
   "id": "df49d969",
   "metadata": {},
   "outputs": [
    {
     "name": "stdout",
     "output_type": "stream",
     "text": [
      "Epoch 1\n",
      "----------------------------\n",
      "loss: 2.305527 [    0/60000]\n",
      "loss: 2.300767 [ 6400/60000]\n",
      "loss: 2.299908 [12800/60000]\n",
      "loss: 2.294927 [19200/60000]\n",
      "loss: 2.280495 [25600/60000]\n",
      "loss: 2.279396 [32000/60000]\n",
      "loss: 2.282068 [38400/60000]\n",
      "loss: 2.277322 [44800/60000]\n",
      "loss: 2.262551 [51200/60000]\n",
      "loss: 2.252201 [57600/60000]\n",
      "Test Error: \n",
      "Accuracy: 26.9%, Avg loss: 2.259496 \n",
      "\n",
      "Epoch 2\n",
      "----------------------------\n",
      "loss: 2.275875 [    0/60000]\n",
      "loss: 2.272687 [ 6400/60000]\n",
      "loss: 2.269413 [12800/60000]\n",
      "loss: 2.258218 [19200/60000]\n",
      "loss: 2.229206 [25600/60000]\n",
      "loss: 2.225868 [32000/60000]\n",
      "loss: 2.243240 [38400/60000]\n",
      "loss: 2.224674 [44800/60000]\n",
      "loss: 2.191992 [51200/60000]\n",
      "loss: 2.195480 [57600/60000]\n",
      "Test Error: \n",
      "Accuracy: 27.2%, Avg loss: 2.196062 \n",
      "\n",
      "Epoch 3\n",
      "----------------------------\n",
      "loss: 2.214830 [    0/60000]\n",
      "loss: 2.211473 [ 6400/60000]\n",
      "loss: 2.188206 [12800/60000]\n",
      "loss: 2.191197 [19200/60000]\n",
      "loss: 2.156707 [25600/60000]\n",
      "loss: 2.140849 [32000/60000]\n",
      "loss: 2.174319 [38400/60000]\n",
      "loss: 2.132198 [44800/60000]\n",
      "loss: 2.072648 [51200/60000]\n",
      "loss: 2.099388 [57600/60000]\n",
      "Test Error: \n",
      "Accuracy: 36.9%, Avg loss: 2.093034 \n",
      "\n",
      "Epoch 4\n",
      "----------------------------\n",
      "loss: 2.110790 [    0/60000]\n",
      "loss: 2.116725 [ 6400/60000]\n",
      "loss: 2.065774 [12800/60000]\n",
      "loss: 2.082410 [19200/60000]\n",
      "loss: 2.052607 [25600/60000]\n",
      "loss: 2.021852 [32000/60000]\n",
      "loss: 2.057281 [38400/60000]\n",
      "loss: 2.007762 [44800/60000]\n",
      "loss: 1.920701 [51200/60000]\n",
      "loss: 1.969829 [57600/60000]\n",
      "Test Error: \n",
      "Accuracy: 39.1%, Avg loss: 1.971365 \n",
      "\n",
      "Epoch 5\n",
      "----------------------------\n",
      "loss: 1.987658 [    0/60000]\n",
      "loss: 2.008477 [ 6400/60000]\n",
      "loss: 1.935127 [12800/60000]\n",
      "loss: 1.974851 [19200/60000]\n",
      "loss: 1.955750 [25600/60000]\n",
      "loss: 1.908939 [32000/60000]\n",
      "loss: 1.943848 [38400/60000]\n",
      "loss: 1.895836 [44800/60000]\n",
      "loss: 1.790804 [51200/60000]\n",
      "loss: 1.855728 [57600/60000]\n",
      "Test Error: \n",
      "Accuracy: 42.5%, Avg loss: 1.870375 \n",
      "\n",
      "Done!\n"
     ]
    }
   ],
   "source": [
    "epochs = 5\n",
    "for t in range(epochs):\n",
    "    print(f\"Epoch {t+1}\\n----------------------------\")\n",
    "    train(train_dataloader, model, loss_fn, optimizer)\n",
    "    test(test_dataloader, model, loss_fn)\n",
    "print(\"Done!\")"
   ]
  },
  {
   "cell_type": "code",
   "execution_count": 11,
   "id": "260ea3ef",
   "metadata": {},
   "outputs": [
    {
     "name": "stdout",
     "output_type": "stream",
     "text": [
      "saved torch model state to model.pth\n"
     ]
    }
   ],
   "source": [
    "torch.save(model.state_dict(), \"model.pth\")\n",
    "print(\"saved torch model state to model.pth\")"
   ]
  },
  {
   "cell_type": "markdown",
   "id": "725bea7e",
   "metadata": {},
   "source": [
    "### 모델 불러오기"
   ]
  },
  {
   "cell_type": "code",
   "execution_count": 12,
   "id": "1868a36f",
   "metadata": {},
   "outputs": [
    {
     "data": {
      "text/plain": [
       "<All keys matched successfully>"
      ]
     },
     "execution_count": 12,
     "metadata": {},
     "output_type": "execute_result"
    }
   ],
   "source": [
    "new_model = NeuralNetwork()\n",
    "new_model.load_state_dict(torch.load(\"model.pth\"))"
   ]
  },
  {
   "cell_type": "code",
   "execution_count": 13,
   "id": "1c4bbf5e",
   "metadata": {},
   "outputs": [],
   "source": [
    "classes = [\"T-shirt/top\",\n",
    "           \"Trouser\",\n",
    "           \"Pullover\",\n",
    "           \"Dress\",\n",
    "           \"Coat\",\n",
    "           \"Sandal\",\n",
    "           \"Shirt\",\n",
    "           \"Sneaker\",\n",
    "           \"Bag\",\n",
    "           \"Ankle boot\"\n",
    "]"
   ]
  },
  {
   "cell_type": "code",
   "execution_count": 15,
   "id": "4671ffdd",
   "metadata": {},
   "outputs": [
    {
     "name": "stdout",
     "output_type": "stream",
     "text": [
      "Predicted: \"Sneaker\", Actual: \"Ankle boot\"\n"
     ]
    }
   ],
   "source": [
    "model.eval()\n",
    "x, y = test_data[0][0], test_data[0][1]\n",
    "\n",
    "with torch.no_grad():\n",
    "    pred = new_model(x)\n",
    "    predicted, actual = classes[pred[0].argmax(0)], classes[y]\n",
    "    print(f'Predicted: \"{predicted}\", Actual: \"{actual}\"')"
   ]
  },
  {
   "cell_type": "code",
   "execution_count": null,
   "id": "74f18d23",
   "metadata": {},
   "outputs": [],
   "source": []
  }
 ],
 "metadata": {
  "kernelspec": {
   "display_name": "Python 3 (ipykernel)",
   "language": "python",
   "name": "python3"
  },
  "language_info": {
   "codemirror_mode": {
    "name": "ipython",
    "version": 3
   },
   "file_extension": ".py",
   "mimetype": "text/x-python",
   "name": "python",
   "nbconvert_exporter": "python",
   "pygments_lexer": "ipython3",
   "version": "3.8.10"
  }
 },
 "nbformat": 4,
 "nbformat_minor": 5
}
