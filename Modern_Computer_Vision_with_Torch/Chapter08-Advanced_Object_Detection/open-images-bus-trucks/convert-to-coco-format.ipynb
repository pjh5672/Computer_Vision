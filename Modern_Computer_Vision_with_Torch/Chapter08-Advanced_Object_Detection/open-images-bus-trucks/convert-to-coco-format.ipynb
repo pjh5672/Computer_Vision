{
 "cells": [
  {
   "cell_type": "code",
   "execution_count": 1,
   "metadata": {
    "ExecuteTime": {
     "end_time": "2020-07-25T11:26:24.549324Z",
     "start_time": "2020-07-25T11:26:23.833989Z"
    }
   },
   "outputs": [],
   "source": [
    "from torch_snippets import *"
   ]
  },
  {
   "cell_type": "code",
   "execution_count": 7,
   "metadata": {
    "ExecuteTime": {
     "end_time": "2020-07-25T11:27:23.889768Z",
     "start_time": "2020-07-25T11:27:23.816693Z"
    }
   },
   "outputs": [
    {
     "data": {
      "text/html": [
       "<div>\n",
       "<style scoped>\n",
       "    .dataframe tbody tr th:only-of-type {\n",
       "        vertical-align: middle;\n",
       "    }\n",
       "\n",
       "    .dataframe tbody tr th {\n",
       "        vertical-align: top;\n",
       "    }\n",
       "\n",
       "    .dataframe thead th {\n",
       "        text-align: right;\n",
       "    }\n",
       "</style>\n",
       "<table border=\"1\" class=\"dataframe\">\n",
       "  <thead>\n",
       "    <tr style=\"text-align: right;\">\n",
       "      <th></th>\n",
       "      <th>ImageID</th>\n",
       "      <th>Source</th>\n",
       "      <th>LabelName</th>\n",
       "      <th>Confidence</th>\n",
       "      <th>XMin</th>\n",
       "      <th>XMax</th>\n",
       "      <th>YMin</th>\n",
       "      <th>YMax</th>\n",
       "      <th>IsOccluded</th>\n",
       "      <th>IsTruncated</th>\n",
       "      <th>...</th>\n",
       "      <th>IsDepiction</th>\n",
       "      <th>IsInside</th>\n",
       "      <th>XClick1X</th>\n",
       "      <th>XClick2X</th>\n",
       "      <th>XClick3X</th>\n",
       "      <th>XClick4X</th>\n",
       "      <th>XClick1Y</th>\n",
       "      <th>XClick2Y</th>\n",
       "      <th>XClick3Y</th>\n",
       "      <th>XClick4Y</th>\n",
       "    </tr>\n",
       "  </thead>\n",
       "  <tbody>\n",
       "    <tr>\n",
       "      <th>0</th>\n",
       "      <td>0000599864fd15b3</td>\n",
       "      <td>xclick</td>\n",
       "      <td>Bus</td>\n",
       "      <td>1</td>\n",
       "      <td>0.343750</td>\n",
       "      <td>0.908750</td>\n",
       "      <td>0.156162</td>\n",
       "      <td>0.650047</td>\n",
       "      <td>1</td>\n",
       "      <td>0</td>\n",
       "      <td>...</td>\n",
       "      <td>0</td>\n",
       "      <td>0</td>\n",
       "      <td>0.421875</td>\n",
       "      <td>0.343750</td>\n",
       "      <td>0.795000</td>\n",
       "      <td>0.908750</td>\n",
       "      <td>0.156162</td>\n",
       "      <td>0.512700</td>\n",
       "      <td>0.650047</td>\n",
       "      <td>0.457197</td>\n",
       "    </tr>\n",
       "    <tr>\n",
       "      <th>1</th>\n",
       "      <td>00006bdb1eb5cd74</td>\n",
       "      <td>xclick</td>\n",
       "      <td>Truck</td>\n",
       "      <td>1</td>\n",
       "      <td>0.276667</td>\n",
       "      <td>0.697500</td>\n",
       "      <td>0.141604</td>\n",
       "      <td>0.437343</td>\n",
       "      <td>1</td>\n",
       "      <td>0</td>\n",
       "      <td>...</td>\n",
       "      <td>0</td>\n",
       "      <td>0</td>\n",
       "      <td>0.299167</td>\n",
       "      <td>0.276667</td>\n",
       "      <td>0.697500</td>\n",
       "      <td>0.659167</td>\n",
       "      <td>0.141604</td>\n",
       "      <td>0.241855</td>\n",
       "      <td>0.352130</td>\n",
       "      <td>0.437343</td>\n",
       "    </tr>\n",
       "    <tr>\n",
       "      <th>2</th>\n",
       "      <td>00006bdb1eb5cd74</td>\n",
       "      <td>xclick</td>\n",
       "      <td>Truck</td>\n",
       "      <td>1</td>\n",
       "      <td>0.702500</td>\n",
       "      <td>0.999167</td>\n",
       "      <td>0.204261</td>\n",
       "      <td>0.409774</td>\n",
       "      <td>1</td>\n",
       "      <td>1</td>\n",
       "      <td>...</td>\n",
       "      <td>0</td>\n",
       "      <td>0</td>\n",
       "      <td>0.849167</td>\n",
       "      <td>0.702500</td>\n",
       "      <td>0.906667</td>\n",
       "      <td>0.999167</td>\n",
       "      <td>0.204261</td>\n",
       "      <td>0.398496</td>\n",
       "      <td>0.409774</td>\n",
       "      <td>0.295739</td>\n",
       "    </tr>\n",
       "    <tr>\n",
       "      <th>3</th>\n",
       "      <td>00010bf498b64bab</td>\n",
       "      <td>xclick</td>\n",
       "      <td>Bus</td>\n",
       "      <td>1</td>\n",
       "      <td>0.156250</td>\n",
       "      <td>0.371250</td>\n",
       "      <td>0.269188</td>\n",
       "      <td>0.705228</td>\n",
       "      <td>0</td>\n",
       "      <td>0</td>\n",
       "      <td>...</td>\n",
       "      <td>0</td>\n",
       "      <td>0</td>\n",
       "      <td>0.274375</td>\n",
       "      <td>0.371250</td>\n",
       "      <td>0.311875</td>\n",
       "      <td>0.156250</td>\n",
       "      <td>0.269188</td>\n",
       "      <td>0.493882</td>\n",
       "      <td>0.705228</td>\n",
       "      <td>0.521691</td>\n",
       "    </tr>\n",
       "    <tr>\n",
       "      <th>4</th>\n",
       "      <td>00013f14dd4e168f</td>\n",
       "      <td>xclick</td>\n",
       "      <td>Bus</td>\n",
       "      <td>1</td>\n",
       "      <td>0.287500</td>\n",
       "      <td>0.999375</td>\n",
       "      <td>0.194184</td>\n",
       "      <td>0.999062</td>\n",
       "      <td>0</td>\n",
       "      <td>1</td>\n",
       "      <td>...</td>\n",
       "      <td>0</td>\n",
       "      <td>0</td>\n",
       "      <td>0.920000</td>\n",
       "      <td>0.999375</td>\n",
       "      <td>0.648750</td>\n",
       "      <td>0.287500</td>\n",
       "      <td>0.194184</td>\n",
       "      <td>0.303940</td>\n",
       "      <td>0.999062</td>\n",
       "      <td>0.523452</td>\n",
       "    </tr>\n",
       "  </tbody>\n",
       "</table>\n",
       "<p>5 rows × 21 columns</p>\n",
       "</div>"
      ],
      "text/plain": [
       "            ImageID  Source LabelName  Confidence      XMin      XMax  \\\n",
       "0  0000599864fd15b3  xclick       Bus           1  0.343750  0.908750   \n",
       "1  00006bdb1eb5cd74  xclick     Truck           1  0.276667  0.697500   \n",
       "2  00006bdb1eb5cd74  xclick     Truck           1  0.702500  0.999167   \n",
       "3  00010bf498b64bab  xclick       Bus           1  0.156250  0.371250   \n",
       "4  00013f14dd4e168f  xclick       Bus           1  0.287500  0.999375   \n",
       "\n",
       "       YMin      YMax  IsOccluded  IsTruncated  ...  IsDepiction  IsInside  \\\n",
       "0  0.156162  0.650047           1            0  ...            0         0   \n",
       "1  0.141604  0.437343           1            0  ...            0         0   \n",
       "2  0.204261  0.409774           1            1  ...            0         0   \n",
       "3  0.269188  0.705228           0            0  ...            0         0   \n",
       "4  0.194184  0.999062           0            1  ...            0         0   \n",
       "\n",
       "   XClick1X  XClick2X  XClick3X  XClick4X  XClick1Y  XClick2Y  XClick3Y  \\\n",
       "0  0.421875  0.343750  0.795000  0.908750  0.156162  0.512700  0.650047   \n",
       "1  0.299167  0.276667  0.697500  0.659167  0.141604  0.241855  0.352130   \n",
       "2  0.849167  0.702500  0.906667  0.999167  0.204261  0.398496  0.409774   \n",
       "3  0.274375  0.371250  0.311875  0.156250  0.269188  0.493882  0.705228   \n",
       "4  0.920000  0.999375  0.648750  0.287500  0.194184  0.303940  0.999062   \n",
       "\n",
       "   XClick4Y  \n",
       "0  0.457197  \n",
       "1  0.437343  \n",
       "2  0.295739  \n",
       "3  0.521691  \n",
       "4  0.523452  \n",
       "\n",
       "[5 rows x 21 columns]"
      ]
     },
     "execution_count": 7,
     "metadata": {},
     "output_type": "execute_result"
    }
   ],
   "source": [
    "from sklearn.model_selection import train_test_split\n",
    "df = pd.read_csv('df.csv')\n",
    "trn_df, val_df = train_test_split(df, random_state=10)\n",
    "\n",
    "df_mini = df[df.ImageID.isin(df.ImageID.unique()[:500].tolist())]\n",
    "trn_df_mini, val_df_mini = train_test_split(df_mini, random_state=10)\n",
    "\n",
    "df_micro = df[df.ImageID.isin(df.ImageID.unique()[:50].tolist())]\n",
    "trn_df_micro, val_df_micro = train_test_split(df_micro, random_state=10)\n",
    "\n",
    "len(df)\n",
    "df.head()"
   ]
  },
  {
   "cell_type": "code",
   "execution_count": 8,
   "metadata": {
    "ExecuteTime": {
     "end_time": "2020-07-25T11:27:32.985755Z",
     "start_time": "2020-07-25T11:27:32.979078Z"
    }
   },
   "outputs": [
    {
     "data": {
      "text/plain": [
       "array(['Bus', 'Truck'], dtype=object)"
      ]
     },
     "execution_count": 8,
     "metadata": {},
     "output_type": "execute_result"
    }
   ],
   "source": [
    "val_df_micro.LabelName.unique()"
   ]
  },
  {
   "cell_type": "code",
   "execution_count": 9,
   "metadata": {
    "ExecuteTime": {
     "end_time": "2020-07-25T11:27:35.532313Z",
     "start_time": "2020-07-25T11:27:35.529873Z"
    }
   },
   "outputs": [],
   "source": [
    "categories = [{'id': 1, 'name': 'Bus', 'supercategory': 'none'}, {'id': 2, 'name': 'Truck', 'supercategory': 'none'}]\n",
    "category_ids = {'Bus': 1, 'Truck': 2}"
   ]
  },
  {
   "cell_type": "code",
   "execution_count": 10,
   "metadata": {
    "ExecuteTime": {
     "end_time": "2020-07-25T11:27:35.898338Z",
     "start_time": "2020-07-25T11:27:35.888978Z"
    },
    "code_folding": [
     0,
     11,
     32,
     40
    ]
   },
   "outputs": [],
   "source": [
    "def get_image_infos(df):\n",
    "    image_infos = []\n",
    "    for image in df['ImageID'].unique():\n",
    "        info = {}\n",
    "        info['file_name'] = image+'.jpg'\n",
    "        im = read(f'images/{image}.jpg')\n",
    "        h, w = im.shape\n",
    "        info['height'], info['width'] = h, w\n",
    "        info['id'] = len(image_infos)+1\n",
    "        image_infos.append(info)\n",
    "    return image_infos\n",
    "def get_annotations_for_image_info(image_info, df):\n",
    "    imginfo = image_info['file_name'].split('.')[0]\n",
    "    image_id = image_info['id']\n",
    "    h, w = image_info['height'], image_info['width']\n",
    "    _df = df[df['ImageID'] == imginfo]\n",
    "    annotations = []\n",
    "    for ix, row in _df.iterrows():\n",
    "        annot = {}\n",
    "        row = row.squeeze()\n",
    "        x,y,X,Y = row.XMin,row.YMin,row.XMax,row.YMax\n",
    "        x,y,X,Y = x*w,y*h,X*w,Y*h\n",
    "        x,y,X,Y = [int(i) for i in [x,y,X,Y]]\n",
    "        annot['bbox'] = [x,y,X-x,Y-y]\n",
    "        annot['ignore'] = '0'\n",
    "        annot['category_id'] = category_ids[row.LabelName]\n",
    "        annot['area'] = (X-x)*(Y-y)\n",
    "        annot['iscrowd'] = 0\n",
    "        annot['segmentation'] = [[x,y,x,Y,X,Y,X,y]]\n",
    "        annot['image_id'] = image_id\n",
    "        annotations.append(annot)\n",
    "    return annotations\n",
    "def get_annotations_for_all_image_infos(image_infos, df):\n",
    "    ANNOTATIONS = []\n",
    "    for image_info in image_infos:\n",
    "        annotations = get_annotations_for_image_info(image_info, df)\n",
    "        for annot in annotations:\n",
    "            annot['id'] = len(ANNOTATIONS) + 1\n",
    "            ANNOTATIONS.append(annot)\n",
    "    return ANNOTATIONS\n",
    "def get_coco_annotations(df):\n",
    "    image_infos = get_image_infos(df)\n",
    "    annotations = get_annotations_for_all_image_infos(image_infos, df)\n",
    "    data_in_coco_format = {}\n",
    "    data_in_coco_format['annotations'] = annotations\n",
    "    data_in_coco_format['categories'] = categories\n",
    "    data_in_coco_format['images'] = image_infos\n",
    "    data_in_coco_format['type'] = 'instances'\n",
    "    return data_in_coco_format"
   ]
  },
  {
   "cell_type": "code",
   "execution_count": 11,
   "metadata": {
    "ExecuteTime": {
     "end_time": "2020-07-25T11:27:54.508303Z",
     "start_time": "2020-07-25T11:27:54.322398Z"
    },
    "code_folding": [
     0
    ]
   },
   "outputs": [
    {
     "name": "stdout",
     "output_type": "stream",
     "text": [
      "mkdir: cannot create directory ‘annotations’: File exists\r\n"
     ]
    }
   ],
   "source": [
    "import json\n",
    "!mkdir annotations\n",
    "# json.dump(get_coco_annotations(trn_df), open('annotations/open_images_train_coco_format.json','w'),indent=4)\n",
    "# json.dump(get_coco_annotations(val_df), open('annotations/open_images_val_coco_format.json','w'),indent=4)\n",
    "\n",
    "# json.dump(get_coco_annotations(trn_df_mini), open('annotations/mini_open_images_train_coco_format.json','w'),indent=4)\n",
    "# json.dump(get_coco_annotations(val_df_mini), open('annotations/mini_open_images_val_coco_format.json','w'),indent=4)\n",
    "\n",
    "json.dump(get_coco_annotations(trn_df_micro), open('annotations/micro_open_images_train_coco_format.json','w'),indent=4)\n",
    "json.dump(get_coco_annotations(val_df_micro), open('annotations/micro_open_images_val_coco_format.json','w'),indent=4)"
   ]
  },
  {
   "cell_type": "markdown",
   "metadata": {},
   "source": [
    "### Load and test"
   ]
  },
  {
   "cell_type": "code",
   "execution_count": 9,
   "metadata": {
    "ExecuteTime": {
     "end_time": "2020-06-06T08:34:57.431464Z",
     "start_time": "2020-06-06T08:34:56.592367Z"
    }
   },
   "outputs": [],
   "source": [
    "category_ids = {'Bus': 0, 'Truck': 1}\n",
    "def get_dump(df):\n",
    "    data = []\n",
    "    for imageID in df.ImageID.unique():\n",
    "        filename = imageID+'.jpg'\n",
    "        width, height = read(f'images/{filename}').shape\n",
    "        _df = df[df.ImageID==imageID]\n",
    "        bbs = _df['XMin,YMin,XMax,YMax'.split(',')].values\n",
    "        bbs = bbs*np.array([width,height,width,height])\n",
    "        # bbs[:,2:] = bbs[:,2:] - bbs[:,:2]\n",
    "        labels = np.array([category_ids[ix] for ix in _df['LabelName']])\n",
    "        if len(labels) == 0: continue\n",
    "        annot = dict(\n",
    "            filename=filename,\n",
    "            width=width, height=height,\n",
    "            ann=dict(\n",
    "                bboxes=bbs.astype(np.float32),\n",
    "                labels=labels.astype(np.int64)\n",
    "            )\n",
    "        )\n",
    "        data.append(annot)\n",
    "    return data\n",
    "\n",
    "import pickle\n",
    "pickle.dump(get_dump(trn_df_mini), open('pickles/2-mini-open-images-bus-truck-train.pickle', 'wb'))\n",
    "pickle.dump(get_dump(val_df_mini), open('pickles/2-mini-open-images-bus-truck-val.pickle', 'wb'))\n",
    "\n",
    "# pickle.dump(get_dump(trn_df_mini), open('mini-open-images-bus-truck-train.pickle', 'wb'))\n",
    "# pickle.dump(get_dump(val_df_mini), open('mini-open-images-bus-truck-val.pickle', 'wb'))"
   ]
  },
  {
   "cell_type": "code",
   "execution_count": 46,
   "metadata": {
    "ExecuteTime": {
     "end_time": "2020-06-05T21:10:51.083479Z",
     "start_time": "2020-06-05T21:10:51.040669Z"
    }
   },
   "outputs": [
    {
     "data": {
      "text/plain": [
       "[{'filename': '02b4c34bd52f1217.jpg',\n",
       "  'width': 194,\n",
       "  'height': 256,\n",
       "  'ann': {'bboxes': array([[  0.      , 126.014465, 159.44376 , 105.36499 ]], dtype=float32),\n",
       "   'labels': array([1])}},\n",
       " {'filename': '9b92c6f48307ece3.jpg',\n",
       "  'width': 194,\n",
       "  'height': 256,\n",
       "  'ann': {'bboxes': array([[ 19.885   ,  25.621248, 154.9575  , 209.41594 ],\n",
       "          [  1.455   ,  55.47725 ,  99.78875 , 139.32826 ]], dtype=float32),\n",
       "   'labels': array([1, 1])}},\n",
       " {'filename': '8ee9ac71d758e982.jpg',\n",
       "  'width': 144,\n",
       "  'height': 256,\n",
       "  'ann': {'bboxes': array([[  8.73    ,  17.92    ,  66.24    , 200.53325 ],\n",
       "          [ 65.34    ,  15.928832,  78.03    , 200.81792 ]], dtype=float32),\n",
       "   'labels': array([1, 1])}}]"
      ]
     },
     "execution_count": 46,
     "metadata": {},
     "output_type": "execute_result"
    }
   ],
   "source": [
    "from mmcv import load\n",
    "data = load('open-images-bus-truck-train.pickle')\n",
    "data[:3]"
   ]
  },
  {
   "cell_type": "code",
   "execution_count": null,
   "metadata": {},
   "outputs": [],
   "source": []
  }
 ],
 "metadata": {
  "kernelspec": {
   "display_name": "Python 3",
   "language": "python",
   "name": "python3"
  },
  "language_info": {
   "codemirror_mode": {
    "name": "ipython",
    "version": 3
   },
   "file_extension": ".py",
   "mimetype": "text/x-python",
   "name": "python",
   "nbconvert_exporter": "python",
   "pygments_lexer": "ipython3",
   "version": "3.7.6"
  }
 },
 "nbformat": 4,
 "nbformat_minor": 4
}
