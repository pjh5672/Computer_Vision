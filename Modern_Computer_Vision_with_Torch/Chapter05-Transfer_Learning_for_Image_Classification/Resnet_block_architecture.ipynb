{
 "cells": [
  {
   "cell_type": "code",
   "execution_count": 1,
   "id": "fefa2388",
   "metadata": {},
   "outputs": [],
   "source": [
    "import torch\n",
    "from torch import nn"
   ]
  },
  {
   "cell_type": "code",
   "execution_count": 14,
   "id": "ba36eace",
   "metadata": {},
   "outputs": [],
   "source": [
    "class ResLayer(nn.Module):\n",
    "    def __init__(self,ni, no, kernel_size, stride=1):\n",
    "        super(ResLayer, self).__init__()\n",
    "        padding = kernel_size - 2\n",
    "        self.conv = nn.Sequential(nn.Conv2d(ni, no, kernel_size, stride, padding=padding),\n",
    "                                  nn.ReLU())\n",
    "        \n",
    "    def forward(self, x):\n",
    "        return self.conv(x) + x"
   ]
  },
  {
   "cell_type": "code",
   "execution_count": null,
   "id": "817407de",
   "metadata": {},
   "outputs": [],
   "source": []
  }
 ],
 "metadata": {
  "kernelspec": {
   "display_name": "Python 3",
   "language": "python",
   "name": "python3"
  },
  "language_info": {
   "codemirror_mode": {
    "name": "ipython",
    "version": 3
   },
   "file_extension": ".py",
   "mimetype": "text/x-python",
   "name": "python",
   "nbconvert_exporter": "python",
   "pygments_lexer": "ipython3",
   "version": "3.8.11"
  }
 },
 "nbformat": 4,
 "nbformat_minor": 5
}
