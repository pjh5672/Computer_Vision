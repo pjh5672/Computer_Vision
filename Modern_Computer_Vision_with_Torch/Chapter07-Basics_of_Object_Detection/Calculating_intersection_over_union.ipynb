{
 "cells": [
  {
   "cell_type": "code",
   "execution_count": 1,
   "id": "66337914",
   "metadata": {},
   "outputs": [],
   "source": [
    "def get_iou(boxA, boxB, epsilon=1e-5):\n",
    "    x1 = max(boxA[0], boxB[0])\n",
    "    y1 = max(boxA[1], boxB[1])\n",
    "    x2 = min(boxA[2], boxB[2])\n",
    "    y2 = min(boxA[3], boxB[3])\n",
    "    \n",
    "    width = (x2 - x1)\n",
    "    height = (y2 - y1)\n",
    "    \n",
    "    if (width < 0) or (height < 0):\n",
    "        return 0.0\n",
    "    \n",
    "    area_overlap = width * height\n",
    "    area_a = (boxA[2] - boxA[0]) * (boxA[3] - boxA[1])\n",
    "    area_b = (boxB[2] - boxB[0]) * (boxB[3] - boxB[1])\n",
    "    area_combined = area_a + area_b - area_overlap\n",
    "    iou = area_overlap / (area_combined+epsilon)\n",
    "    return iou"
   ]
  },
  {
   "cell_type": "code",
   "execution_count": 3,
   "id": "0d8d6bef",
   "metadata": {},
   "outputs": [
    {
     "name": "stdout",
     "output_type": "stream",
     "text": [
      "0.3599999640000036\n"
     ]
    }
   ],
   "source": [
    "boxA = [0, 0, 10, 10]\n",
    "boxB = [2, 2, 8, 8]\n",
    "\n",
    "iou = get_iou(boxA=boxA, boxB=boxB)\n",
    "print(iou)"
   ]
  },
  {
   "cell_type": "code",
   "execution_count": null,
   "id": "490e4d7b",
   "metadata": {},
   "outputs": [],
   "source": []
  }
 ],
 "metadata": {
  "kernelspec": {
   "display_name": "Python 3",
   "language": "python",
   "name": "python3"
  },
  "language_info": {
   "codemirror_mode": {
    "name": "ipython",
    "version": 3
   },
   "file_extension": ".py",
   "mimetype": "text/x-python",
   "name": "python",
   "nbconvert_exporter": "python",
   "pygments_lexer": "ipython3",
   "version": "3.8.11"
  }
 },
 "nbformat": 4,
 "nbformat_minor": 5
}
