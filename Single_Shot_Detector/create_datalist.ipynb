{
 "cells": [
  {
   "cell_type": "code",
   "execution_count": 3,
   "id": "ce9e7052",
   "metadata": {},
   "outputs": [],
   "source": [
    "from utils import create_data_lists"
   ]
  },
  {
   "cell_type": "code",
   "execution_count": 4,
   "id": "0ff07f24",
   "metadata": {},
   "outputs": [
    {
     "name": "stdout",
     "output_type": "stream",
     "text": [
      "\n",
      "There are 16551 training images containing a total of 49653 objects. Files have been saved to F:\\Dataset\\VOC.\n",
      "\n",
      "There are 4952 test images containing a total of 14856 objects. Files have been saved to F:\\Dataset\\VOC.\n"
     ]
    }
   ],
   "source": [
    "create_data_lists(voc07_path='f:Dataset/VOC/VOC2007/',\n",
    "                  voc12_path='f:Dataset/VOC/VOC2012/',\n",
    "                  output_folder='f:Dataset/VOC/')"
   ]
  },
  {
   "cell_type": "code",
   "execution_count": null,
   "id": "2c497e72",
   "metadata": {},
   "outputs": [],
   "source": []
  }
 ],
 "metadata": {
  "kernelspec": {
   "display_name": "Python 3",
   "language": "python",
   "name": "python3"
  },
  "language_info": {
   "codemirror_mode": {
    "name": "ipython",
    "version": 3
   },
   "file_extension": ".py",
   "mimetype": "text/x-python",
   "name": "python",
   "nbconvert_exporter": "python",
   "pygments_lexer": "ipython3",
   "version": "3.8.10"
  }
 },
 "nbformat": 4,
 "nbformat_minor": 5
}
