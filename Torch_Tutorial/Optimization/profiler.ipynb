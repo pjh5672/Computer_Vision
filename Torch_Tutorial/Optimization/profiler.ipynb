{
 "cells": [
  {
   "cell_type": "markdown",
   "id": "31b3bf12",
   "metadata": {},
   "source": [
    "## Performance debugging using Profiler"
   ]
  },
  {
   "cell_type": "code",
   "execution_count": 1,
   "id": "d62992c6",
   "metadata": {},
   "outputs": [],
   "source": [
    "import torch\n",
    "import numpy as np\n",
    "from torch import nn\n",
    "import torch.autograd.profiler as profiler"
   ]
  },
  {
   "cell_type": "code",
   "execution_count": 2,
   "id": "136ae682",
   "metadata": {},
   "outputs": [],
   "source": [
    "class MyModule(nn.Module):\n",
    "    def __init__(self, in_features: int, out_features: int, bias: bool = True):\n",
    "        super(MyModule, self).__init__()\n",
    "        self.linear = nn.Linear(in_features, out_features, bias)\n",
    "\n",
    "    def forward(self, image, mask):\n",
    "        \n",
    "        with profiler.record_function(\"LINEAR PASS\"):\n",
    "            out = self.linear(image)\n",
    "\n",
    "        with profiler.record_function(\"MASK INDICES\"):\n",
    "            threshold = out.sum(axis=1).mean().item()\n",
    "            hi_idx = np.argwhere(mask.cpu().numpy() > threshold)\n",
    "            hi_idx = torch.from_numpy(hi_idx).cuda()\n",
    "\n",
    "        return out, hi_idx"
   ]
  },
  {
   "cell_type": "markdown",
   "id": "e085a9c7",
   "metadata": {},
   "source": [
    "### Profile the forward pass\n",
    "Before we run the profiler, we warm-up CUDA to ensure accurate performance benchmarking. We wrap the forward pass of our module in the profiler.profile context manager. The with_stack=True parameter appends the file and line number of the operation in the trace.\n",
    "\n",
    "`with_stack=True` incurs an additional overhead, and is better suited for investigating code. Remember to remove it if you are benchmarking performance."
   ]
  },
  {
   "cell_type": "code",
   "execution_count": 3,
   "id": "904fb55f",
   "metadata": {},
   "outputs": [],
   "source": [
    "model = MyModule(500, 10).cuda()\n",
    "image = torch.rand(128, 500).cuda()\n",
    "mask = torch.rand((500, 500, 500), dtype=torch.double).cuda()\n",
    "\n",
    "# warm-up\n",
    "model(image, mask)\n",
    "\n",
    "with profiler.profile(with_stack=True, profile_memory=True) as prof:\n",
    "    out, idx = model(image, mask)"
   ]
  },
  {
   "cell_type": "markdown",
   "id": "49d7750c",
   "metadata": {},
   "source": [
    "### Print profiler results\n",
    "Finally, we print the profiler results. profiler.key_averages aggregates the results by operator name, and optionally by input shapes and/or stack trace events. Grouping by input shapes is useful to identify which tensor shapes are utilized by the model."
   ]
  },
  {
   "cell_type": "code",
   "execution_count": 4,
   "id": "e0468ad8",
   "metadata": {
    "scrolled": false
   },
   "outputs": [
    {
     "name": "stdout",
     "output_type": "stream",
     "text": [
      "-----------------------------  ------------  ------------  ------------  ------------  ------------  ------------  ------------  ------------  ------------  ------------  ---------------------------------------------------------------------------  \n",
      "                         Name    Self CPU %      Self CPU   CPU total %     CPU total  CPU time avg       CPU Mem  Self CPU Mem      CUDA Mem  Self CUDA Mem    # of Calls  Source Location                                                              \n",
      "-----------------------------  ------------  ------------  ------------  ------------  ------------  ------------  ------------  ------------  ------------  ------------  ---------------------------------------------------------------------------  \n",
      "                 MASK INDICES        70.91%     450.747ms        99.79%     634.354ms     634.354ms          -4 b    -953.67 Mb      74.00 Mb      -1.00 Kb             1  ...\\envs\\pro_1\\lib\\site-packages\\torch\\autograd\\profiler.py(616): __enter__  \n",
      "                                                                                                                                                                           <ipython-input-2-332f8ea4d88b>(11): forward                                  \n",
      "                                                                                                                                                                           ...envs\\pro_1\\lib\\site-packages\\torch\\nn\\modules\\module.py(889): _call_impl  \n",
      "                                                                                                                                                                           <ipython-input-3-172160267be2>(9): <module>                                  \n",
      "                                                                                                                                                                           ...pro_1\\lib\\site-packages\\IPython\\core\\interactiveshell.py(3437): run_code  \n",
      "                                                                                                                                                                                                                                                        \n",
      "                  aten::copy_        27.07%     172.042ms        27.07%     172.042ms     172.042ms           0 b           0 b           0 b           0 b             1  <ipython-input-2-332f8ea4d88b>(13): forward                                  \n",
      "                                                                                                                                                                           ...envs\\pro_1\\lib\\site-packages\\torch\\nn\\modules\\module.py(889): _call_impl  \n",
      "                                                                                                                                                                           <ipython-input-3-172160267be2>(9): <module>                                  \n",
      "                                                                                                                                                                           ...pro_1\\lib\\site-packages\\IPython\\core\\interactiveshell.py(3437): run_code  \n",
      "                                                                                                                                                                           ...\\lib\\site-packages\\IPython\\core\\interactiveshell.py(3357): run_ast_nodes  \n",
      "                                                                                                                                                                                                                                                        \n",
      "                  aten::copy_         1.63%      10.359ms         1.63%      10.359ms      10.359ms           0 b           0 b           0 b           0 b             1  <ipython-input-2-332f8ea4d88b>(14): forward                                  \n",
      "                                                                                                                                                                           ...envs\\pro_1\\lib\\site-packages\\torch\\nn\\modules\\module.py(889): _call_impl  \n",
      "                                                                                                                                                                           <ipython-input-3-172160267be2>(9): <module>                                  \n",
      "                                                                                                                                                                           ...pro_1\\lib\\site-packages\\IPython\\core\\interactiveshell.py(3437): run_code  \n",
      "                                                                                                                                                                           ...\\lib\\site-packages\\IPython\\core\\interactiveshell.py(3357): run_ast_nodes  \n",
      "                                                                                                                                                                                                                                                        \n",
      "                  aten::addmm         0.03%     209.500us         0.07%     439.300us     439.300us           0 b           0 b       5.00 Kb           0 b             1  ...conda3\\envs\\pro_1\\lib\\site-packages\\torch\\nn\\functional.py(1753): linear  \n",
      "                                                                                                                                                                           ...da3\\envs\\pro_1\\lib\\site-packages\\torch\\nn\\modules\\linear.py(94): forward  \n",
      "                                                                                                                                                                           ...envs\\pro_1\\lib\\site-packages\\torch\\nn\\modules\\module.py(889): _call_impl  \n",
      "                                                                                                                                                                           <ipython-input-2-332f8ea4d88b>(9): forward                                   \n",
      "                                                                                                                                                                           ...envs\\pro_1\\lib\\site-packages\\torch\\nn\\modules\\module.py(889): _call_impl  \n",
      "                                                                                                                                                                                                                                                        \n",
      "    aten::_local_scalar_dense         0.03%     175.700us         0.03%     175.700us     175.700us           0 b           0 b           0 b           0 b             1  <ipython-input-2-332f8ea4d88b>(12): forward                                  \n",
      "                                                                                                                                                                           ...envs\\pro_1\\lib\\site-packages\\torch\\nn\\modules\\module.py(889): _call_impl  \n",
      "                                                                                                                                                                           <ipython-input-3-172160267be2>(9): <module>                                  \n",
      "                                                                                                                                                                           ...pro_1\\lib\\site-packages\\IPython\\core\\interactiveshell.py(3437): run_code  \n",
      "                                                                                                                                                                           ...\\lib\\site-packages\\IPython\\core\\interactiveshell.py(3357): run_ast_nodes  \n",
      "                                                                                                                                                                                                                                                        \n",
      "-----------------------------  ------------  ------------  ------------  ------------  ------------  ------------  ------------  ------------  ------------  ------------  ---------------------------------------------------------------------------  \n",
      "Self CPU time total: 635.657ms\n",
      "\n"
     ]
    }
   ],
   "source": [
    "print(prof.key_averages(group_by_stack_n=5).table(sort_by='self_cpu_time_total', row_limit=5))"
   ]
  },
  {
   "cell_type": "code",
   "execution_count": 5,
   "id": "724a1fb1",
   "metadata": {},
   "outputs": [
    {
     "name": "stdout",
     "output_type": "stream",
     "text": [
      "-----------------------------  ------------  ------------  ------------  ------------  ------------  ------------  ------------  ------------  ------------  ------------  ---------------------------------------------------------------------------  \n",
      "                         Name    Self CPU %      Self CPU   CPU total %     CPU total  CPU time avg       CPU Mem  Self CPU Mem      CUDA Mem  Self CUDA Mem    # of Calls  Source Location                                                              \n",
      "-----------------------------  ------------  ------------  ------------  ------------  ------------  ------------  ------------  ------------  ------------  ------------  ---------------------------------------------------------------------------  \n",
      "                 MASK INDICES        81.40%        2.113s        99.95%        2.594s        2.594s          -4 b    -476.84 Mb       2.79 Gb      -1.00 Kb             1  ...\\envs\\pro_1\\lib\\site-packages\\torch\\autograd\\profiler.py(616): __enter__  \n",
      "                                                                                                                                                                           <ipython-input-2-332f8ea4d88b>(11): forward                                  \n",
      "                                                                                                                                                                           ...envs\\pro_1\\lib\\site-packages\\torch\\nn\\modules\\module.py(889): _call_impl  \n",
      "                                                                                                                                                                           <ipython-input-5-fd876269d524>(9): <module>                                  \n",
      "                                                                                                                                                                           ...pro_1\\lib\\site-packages\\IPython\\core\\interactiveshell.py(3437): run_code  \n",
      "                                                                                                                                                                                                                                                        \n",
      "                  aten::copy_        14.80%     384.025ms        14.80%     384.025ms     384.025ms           0 b           0 b           0 b           0 b             1  <ipython-input-2-332f8ea4d88b>(14): forward                                  \n",
      "                                                                                                                                                                           ...envs\\pro_1\\lib\\site-packages\\torch\\nn\\modules\\module.py(889): _call_impl  \n",
      "                                                                                                                                                                           <ipython-input-5-fd876269d524>(9): <module>                                  \n",
      "                                                                                                                                                                           ...pro_1\\lib\\site-packages\\IPython\\core\\interactiveshell.py(3437): run_code  \n",
      "                                                                                                                                                                           ...\\lib\\site-packages\\IPython\\core\\interactiveshell.py(3357): run_ast_nodes  \n",
      "                                                                                                                                                                                                                                                        \n",
      "                  aten::copy_         3.70%      96.037ms         3.70%      96.037ms      96.037ms           0 b           0 b           0 b           0 b             1  <ipython-input-2-332f8ea4d88b>(13): forward                                  \n",
      "                                                                                                                                                                           ...envs\\pro_1\\lib\\site-packages\\torch\\nn\\modules\\module.py(889): _call_impl  \n",
      "                                                                                                                                                                           <ipython-input-5-fd876269d524>(9): <module>                                  \n",
      "                                                                                                                                                                           ...pro_1\\lib\\site-packages\\IPython\\core\\interactiveshell.py(3437): run_code  \n",
      "                                                                                                                                                                           ...\\lib\\site-packages\\IPython\\core\\interactiveshell.py(3357): run_ast_nodes  \n",
      "                                                                                                                                                                                                                                                        \n",
      "    aten::_local_scalar_dense         0.01%     272.100us         0.01%     272.100us     272.100us           0 b           0 b           0 b           0 b             1  <ipython-input-2-332f8ea4d88b>(12): forward                                  \n",
      "                                                                                                                                                                           ...envs\\pro_1\\lib\\site-packages\\torch\\nn\\modules\\module.py(889): _call_impl  \n",
      "                                                                                                                                                                           <ipython-input-5-fd876269d524>(9): <module>                                  \n",
      "                                                                                                                                                                           ...pro_1\\lib\\site-packages\\IPython\\core\\interactiveshell.py(3437): run_code  \n",
      "                                                                                                                                                                           ...\\lib\\site-packages\\IPython\\core\\interactiveshell.py(3357): run_ast_nodes  \n",
      "                                                                                                                                                                                                                                                        \n",
      "                  aten::addmm         0.01%     221.600us         0.02%     454.900us     454.900us           0 b           0 b       5.00 Kb           0 b             1  ...conda3\\envs\\pro_1\\lib\\site-packages\\torch\\nn\\functional.py(1753): linear  \n",
      "                                                                                                                                                                           ...da3\\envs\\pro_1\\lib\\site-packages\\torch\\nn\\modules\\linear.py(94): forward  \n",
      "                                                                                                                                                                           ...envs\\pro_1\\lib\\site-packages\\torch\\nn\\modules\\module.py(889): _call_impl  \n",
      "                                                                                                                                                                           <ipython-input-2-332f8ea4d88b>(9): forward                                   \n",
      "                                                                                                                                                                           ...envs\\pro_1\\lib\\site-packages\\torch\\nn\\modules\\module.py(889): _call_impl  \n",
      "                                                                                                                                                                                                                                                        \n",
      "-----------------------------  ------------  ------------  ------------  ------------  ------------  ------------  ------------  ------------  ------------  ------------  ---------------------------------------------------------------------------  \n",
      "Self CPU time total: 2.595s\n",
      "\n"
     ]
    }
   ],
   "source": [
    "model = MyModule(500, 10).cuda()\n",
    "image = torch.rand(128, 500).cuda()\n",
    "mask = torch.rand((500, 500, 500), dtype=torch.float).cuda()\n",
    "\n",
    "# warm-up\n",
    "model(image, mask)\n",
    "\n",
    "with profiler.profile(with_stack=True, profile_memory=True) as prof:\n",
    "    out, idx = model(image, mask)\n",
    "\n",
    "print(prof.key_averages(group_by_stack_n=5).table(sort_by='self_cpu_time_total', row_limit=5))"
   ]
  },
  {
   "cell_type": "markdown",
   "id": "e68dfa9a",
   "metadata": {},
   "source": [
    "### Improve time performance\n",
    "While the time consumed has also reduced a bit, it’s still too high. Turns out copying a matrix from CUDA to CPU is pretty expensive! The `aten::copy_` operator in `forward (12)` copies `mask` to CPU so that it can use the NumPy `argwhere` function. `aten::copy_` at `forward(13)` copies the array back to CUDA as a tensor. We could eliminate both of these if we use a `torch` function `nonzero()` here instead."
   ]
  },
  {
   "cell_type": "code",
   "execution_count": 6,
   "id": "6a51324f",
   "metadata": {},
   "outputs": [
    {
     "name": "stdout",
     "output_type": "stream",
     "text": [
      "-----------------------  ------------  ------------  ------------  ------------  ------------  ------------  ------------  ------------  ------------  ------------  ---------------------------------------------------------------------------  \n",
      "                   Name    Self CPU %      Self CPU   CPU total %     CPU total  CPU time avg       CPU Mem  Self CPU Mem      CUDA Mem  Self CUDA Mem    # of Calls  Source Location                                                              \n",
      "-----------------------  ------------  ------------  ------------  ------------  ------------  ------------  ------------  ------------  ------------  ------------  ---------------------------------------------------------------------------  \n",
      "          aten::nonzero        83.90%      17.940ms        85.40%      18.262ms      18.262ms           0 b           0 b       2.16 Gb           0 b             1  <ipython-input-6-c7eb287ee4a0>(12): forward                                  \n",
      "                                                                                                                                                                     ...envs\\pro_1\\lib\\site-packages\\torch\\nn\\modules\\module.py(889): _call_impl  \n",
      "                                                                                                                                                                     <ipython-input-6-c7eb287ee4a0>(25): <module>                                 \n",
      "                                                                                                                                                                     ...pro_1\\lib\\site-packages\\IPython\\core\\interactiveshell.py(3437): run_code  \n",
      "                                                                                                                                                                     ...\\lib\\site-packages\\IPython\\core\\interactiveshell.py(3357): run_ast_nodes  \n",
      "                                                                                                                                                                                                                                                  \n",
      "               aten::gt         1.96%     418.400us         3.04%     649.500us     324.750us           0 b           0 b     238.42 Mb           0 b             2  <ipython-input-6-c7eb287ee4a0>(12): forward                                  \n",
      "                                                                                                                                                                     ...envs\\pro_1\\lib\\site-packages\\torch\\nn\\modules\\module.py(889): _call_impl  \n",
      "                                                                                                                                                                     <ipython-input-6-c7eb287ee4a0>(25): <module>                                 \n",
      "                                                                                                                                                                     ...pro_1\\lib\\site-packages\\IPython\\core\\interactiveshell.py(3437): run_code  \n",
      "                                                                                                                                                                     ...\\lib\\site-packages\\IPython\\core\\interactiveshell.py(3357): run_ast_nodes  \n",
      "                                                                                                                                                                                                                                                  \n",
      "           MASK INDICES         1.55%     332.400us        93.98%      20.095ms      20.095ms          -4 b         -20 b       2.16 Gb    -119.21 Mb             1  ...\\envs\\pro_1\\lib\\site-packages\\torch\\autograd\\profiler.py(616): __enter__  \n",
      "                                                                                                                                                                     <ipython-input-6-c7eb287ee4a0>(10): forward                                  \n",
      "                                                                                                                                                                     ...envs\\pro_1\\lib\\site-packages\\torch\\nn\\modules\\module.py(889): _call_impl  \n",
      "                                                                                                                                                                     <ipython-input-6-c7eb287ee4a0>(25): <module>                                 \n",
      "                                                                                                                                                                     ...pro_1\\lib\\site-packages\\IPython\\core\\interactiveshell.py(3437): run_code  \n",
      "                                                                                                                                                                                                                                                  \n",
      "       aten::as_strided         0.94%     201.000us         0.94%     201.000us      50.250us           0 b           0 b           0 b           0 b             4  <ipython-input-6-c7eb287ee4a0>(12): forward                                  \n",
      "                                                                                                                                                                     ...envs\\pro_1\\lib\\site-packages\\torch\\nn\\modules\\module.py(889): _call_impl  \n",
      "                                                                                                                                                                     <ipython-input-6-c7eb287ee4a0>(25): <module>                                 \n",
      "                                                                                                                                                                     ...pro_1\\lib\\site-packages\\IPython\\core\\interactiveshell.py(3437): run_code  \n",
      "                                                                                                                                                                     ...\\lib\\site-packages\\IPython\\core\\interactiveshell.py(3357): run_ast_nodes  \n",
      "                                                                                                                                                                                                                                                  \n",
      "            aten::addmm         0.82%     175.000us         1.89%     404.300us     404.300us           0 b           0 b       5.00 Kb           0 b             1  ...conda3\\envs\\pro_1\\lib\\site-packages\\torch\\nn\\functional.py(1753): linear  \n",
      "                                                                                                                                                                     ...da3\\envs\\pro_1\\lib\\site-packages\\torch\\nn\\modules\\linear.py(94): forward  \n",
      "                                                                                                                                                                     ...envs\\pro_1\\lib\\site-packages\\torch\\nn\\modules\\module.py(889): _call_impl  \n",
      "                                                                                                                                                                     <ipython-input-6-c7eb287ee4a0>(8): forward                                   \n",
      "                                                                                                                                                                     ...envs\\pro_1\\lib\\site-packages\\torch\\nn\\modules\\module.py(889): _call_impl  \n",
      "                                                                                                                                                                                                                                                  \n",
      "-----------------------  ------------  ------------  ------------  ------------  ------------  ------------  ------------  ------------  ------------  ------------  ---------------------------------------------------------------------------  \n",
      "Self CPU time total: 21.383ms\n",
      "\n"
     ]
    }
   ],
   "source": [
    "class MyModule(nn.Module):\n",
    "    def __init__(self, in_features: int, out_features: int, bias: bool = True):\n",
    "        super(MyModule, self).__init__()\n",
    "        self.linear = nn.Linear(in_features, out_features, bias)\n",
    "\n",
    "    def forward(self, input, mask):\n",
    "        with profiler.record_function(\"LINEAR PASS\"):\n",
    "            out = self.linear(input)\n",
    "\n",
    "        with profiler.record_function(\"MASK INDICES\"):\n",
    "            threshold = out.sum(axis=1).mean()\n",
    "            hi_idx = (mask > threshold).nonzero(as_tuple=True)\n",
    "\n",
    "        return out, hi_idx\n",
    "\n",
    "\n",
    "model = MyModule(500, 10).cuda()\n",
    "input = torch.rand(128, 500).cuda()\n",
    "mask = torch.rand((500, 500, 500), dtype=torch.float).cuda()\n",
    "\n",
    "# warm-up\n",
    "model(input, mask)\n",
    "\n",
    "with profiler.profile(with_stack=True, profile_memory=True) as prof:\n",
    "    out, idx = model(input, mask)\n",
    "\n",
    "print(prof.key_averages(group_by_stack_n=5).table(sort_by='self_cpu_time_total', row_limit=5))"
   ]
  },
  {
   "cell_type": "code",
   "execution_count": null,
   "id": "cf89b297",
   "metadata": {},
   "outputs": [],
   "source": []
  }
 ],
 "metadata": {
  "kernelspec": {
   "display_name": "Python 3",
   "language": "python",
   "name": "python3"
  },
  "language_info": {
   "codemirror_mode": {
    "name": "ipython",
    "version": 3
   },
   "file_extension": ".py",
   "mimetype": "text/x-python",
   "name": "python",
   "nbconvert_exporter": "python",
   "pygments_lexer": "ipython3",
   "version": "3.8.10"
  }
 },
 "nbformat": 4,
 "nbformat_minor": 5
}
