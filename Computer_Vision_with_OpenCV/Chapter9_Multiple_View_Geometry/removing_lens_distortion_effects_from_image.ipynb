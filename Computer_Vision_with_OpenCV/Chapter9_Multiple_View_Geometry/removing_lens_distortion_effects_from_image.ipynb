{
 "cells": [
  {
   "cell_type": "code",
   "execution_count": 1,
   "id": "188b259e",
   "metadata": {},
   "outputs": [],
   "source": [
    "import cv2\n",
    "import numpy as np"
   ]
  },
  {
   "cell_type": "code",
   "execution_count": 2,
   "id": "4bcbb962",
   "metadata": {},
   "outputs": [],
   "source": [
    "camera_matrix = np.load('../data/pinhole_calib/camera_mat.npy')\n",
    "dist_coefs = np.load('../data/pinhole_calib/dist_coefs.npy')\n",
    "img = cv2.imread('../data/pinhole_calib/img_00.png')"
   ]
  },
  {
   "cell_type": "code",
   "execution_count": 5,
   "id": "0745acf3",
   "metadata": {},
   "outputs": [],
   "source": [
    "ud_img = cv2.undistort(img, camera_matrix, dist_coefs)\n",
    "\n",
    "cv2.imshow('undistorted image', ud_img)\n",
    "cv2.waitKey(0)\n",
    "\n",
    "cv2.destroyAllWindows()"
   ]
  },
  {
   "cell_type": "code",
   "execution_count": 4,
   "id": "09ec8239",
   "metadata": {},
   "outputs": [],
   "source": [
    "opt_cam_mat, valid_roi = cv2.getOptimalNewCameraMatrix(camera_matrix, dist_coefs, img.shape[:2][::-1], 0)\n",
    "\n",
    "ud_img = cv2.undistort(img, camera_matrix, dist_coefs, None, opt_cam_mat)\n",
    "\n",
    "cv2.imshow('undistorted2 image', ud_img)\n",
    "cv2.waitKey(0)\n",
    "\n",
    "cv2.destroyAllWindows()"
   ]
  },
  {
   "cell_type": "code",
   "execution_count": null,
   "id": "258de5e9",
   "metadata": {},
   "outputs": [],
   "source": []
  }
 ],
 "metadata": {
  "kernelspec": {
   "display_name": "Python 3",
   "language": "python",
   "name": "python3"
  },
  "language_info": {
   "codemirror_mode": {
    "name": "ipython",
    "version": 3
   },
   "file_extension": ".py",
   "mimetype": "text/x-python",
   "name": "python",
   "nbconvert_exporter": "python",
   "pygments_lexer": "ipython3",
   "version": "3.6.13"
  }
 },
 "nbformat": 4,
 "nbformat_minor": 5
}
