{
 "cells": [
  {
   "cell_type": "code",
   "execution_count": 1,
   "id": "651c1f1c",
   "metadata": {},
   "outputs": [],
   "source": [
    "import cv2\n",
    "import numpy as np"
   ]
  },
  {
   "cell_type": "code",
   "execution_count": 2,
   "id": "81a5a69d",
   "metadata": {},
   "outputs": [
    {
     "name": "stdout",
     "output_type": "stream",
     "text": [
      "[[ 0.9357548  -0.28316498  0.21019171]\n",
      " [ 0.30293274  0.9505806  -0.06803132]\n",
      " [-0.18054008  0.12733458  0.9752903 ]]\n"
     ]
    }
   ],
   "source": [
    "K = np.array([[560,0,320],[0,560,240],[0,0,1]],dtype=np.float32)\n",
    "rvec = np.array([0.1, 0.2, 0.3], np.float32)\n",
    "R, _ = cv2.Rodrigues(rvec)\n",
    "print(R)"
   ]
  },
  {
   "cell_type": "code",
   "execution_count": 3,
   "id": "4a8f70a1",
   "metadata": {},
   "outputs": [],
   "source": [
    "H = K @ R @ np.linalg.inv(K)"
   ]
  },
  {
   "cell_type": "code",
   "execution_count": 4,
   "id": "d5b93ea2",
   "metadata": {},
   "outputs": [],
   "source": [
    "H /= H[2, 2]"
   ]
  },
  {
   "cell_type": "code",
   "execution_count": 6,
   "id": "87d8ffb8",
   "metadata": {},
   "outputs": [
    {
     "name": "stdout",
     "output_type": "stream",
     "text": [
      "[[ 8.1316733e-01 -2.0549431e-01  2.0887941e+02]\n",
      " [ 2.2029683e-01  9.8170549e-01 -1.1470359e+02]\n",
      " [-3.1487257e-04  2.2207903e-04  1.0000000e+00]]\n"
     ]
    }
   ],
   "source": [
    "print(H)"
   ]
  },
  {
   "cell_type": "code",
   "execution_count": 7,
   "id": "a72f05f4",
   "metadata": {},
   "outputs": [],
   "source": [
    "H += np.random.randn(3,3)*0.0001"
   ]
  },
  {
   "cell_type": "code",
   "execution_count": 8,
   "id": "b9efeb2a",
   "metadata": {},
   "outputs": [],
   "source": [
    "np.save('rotational_homography.npy', {'H': H, 'K': K})"
   ]
  },
  {
   "cell_type": "code",
   "execution_count": 10,
   "id": "2d18b97e",
   "metadata": {},
   "outputs": [],
   "source": [
    "data = np.load('../data/rotational_homography.npy', allow_pickle=True).item()\n",
    "H, K = data['H'], data['K']"
   ]
  },
  {
   "cell_type": "code",
   "execution_count": 12,
   "id": "cd0e6245",
   "metadata": {},
   "outputs": [],
   "source": [
    "H_ = np.linalg.inv(K) @ H @ K\n",
    "\n",
    "w, u, vt = cv2.SVDecomp(H_)\n",
    "R = u @ vt\n",
    "if cv2.determinant(R) < 0:\n",
    "    R *= 1"
   ]
  },
  {
   "cell_type": "code",
   "execution_count": 14,
   "id": "6ae4cb41",
   "metadata": {},
   "outputs": [
    {
     "name": "stdout",
     "output_type": "stream",
     "text": [
      "Rotation vector:\n",
      "[[0.12439562]\n",
      " [0.22688715]\n",
      " [0.3264132 ]]\n"
     ]
    }
   ],
   "source": [
    "rvec = cv2.Rodrigues(R)[0]\n",
    "\n",
    "print('Rotation vector:')\n",
    "print(rvec)"
   ]
  },
  {
   "cell_type": "code",
   "execution_count": null,
   "id": "732d8b0b",
   "metadata": {},
   "outputs": [],
   "source": []
  }
 ],
 "metadata": {
  "kernelspec": {
   "display_name": "Python 3",
   "language": "python",
   "name": "python3"
  },
  "language_info": {
   "codemirror_mode": {
    "name": "ipython",
    "version": 3
   },
   "file_extension": ".py",
   "mimetype": "text/x-python",
   "name": "python",
   "nbconvert_exporter": "python",
   "pygments_lexer": "ipython3",
   "version": "3.6.13"
  }
 },
 "nbformat": 4,
 "nbformat_minor": 5
}
