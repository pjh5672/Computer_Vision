{
 "cells": [
  {
   "cell_type": "code",
   "execution_count": 1,
   "id": "0836f325",
   "metadata": {},
   "outputs": [],
   "source": [
    "import cv2\n",
    "import numpy as np"
   ]
  },
  {
   "cell_type": "code",
   "execution_count": 2,
   "id": "9d095c84",
   "metadata": {},
   "outputs": [],
   "source": [
    "P1 = np.eye(3, 4, dtype=np.float32)\n",
    "P2 = np.eye(3, 4, dtype=np.float32)\n",
    "P2[0, 3] = -1"
   ]
  },
  {
   "cell_type": "code",
   "execution_count": 4,
   "id": "ff669d16",
   "metadata": {},
   "outputs": [],
   "source": [
    "N = 5\n",
    "points3d = np.empty((4, N), np.float32)\n",
    "points3d[:3, :] = np.random.randn(3, N)\n",
    "points3d[3, :] = 1"
   ]
  },
  {
   "cell_type": "code",
   "execution_count": 5,
   "id": "4c333571",
   "metadata": {},
   "outputs": [],
   "source": [
    "points1 = P1 @ points3d\n",
    "points1 = points1[:2, :] / points1[2, :]\n",
    "points1[:2, :] += np.random.randn(2, N) * 1e-2\n",
    "\n",
    "points2 = P2 @ points3d\n",
    "points2 = points2[:2, :] / points2[2, :]\n",
    "points2[:2, :] += np.random.randn(2, N) * 1e-2"
   ]
  },
  {
   "cell_type": "code",
   "execution_count": 6,
   "id": "93dbbeb1",
   "metadata": {},
   "outputs": [],
   "source": [
    "points3d_reconstr = cv2.triangulatePoints(P1, P2, points1, points2)\n",
    "points3d_reconstr /= points3d_reconstr[3, :]"
   ]
  },
  {
   "cell_type": "code",
   "execution_count": 7,
   "id": "1cb7bedb",
   "metadata": {},
   "outputs": [
    {
     "name": "stdout",
     "output_type": "stream",
     "text": [
      "Original points\n",
      "[[ 1.081279   -0.99633145 -0.84461826]\n",
      " [-0.13421062 -0.1097857   0.98051167]\n",
      " [ 0.03670051  0.6888201  -0.56386214]\n",
      " [-0.38759682  0.8961643   0.84851336]\n",
      " [-0.45612594  0.08040986 -0.10995554]]\n",
      "Reconstructed points\n",
      "[[ 1.0678916  -0.9838293  -0.83585995]\n",
      " [-0.13354994 -0.09540577  0.9745699 ]\n",
      " [ 0.03198474  0.685727   -0.5613085 ]\n",
      " [-0.4050801   0.90336996  0.85936534]\n",
      " [-0.45492786  0.07963713 -0.10996541]]\n"
     ]
    }
   ],
   "source": [
    "print('Original points')\n",
    "print(points3d[:3].T)\n",
    "print('Reconstructed points')\n",
    "print(points3d_reconstr[:3].T)"
   ]
  },
  {
   "cell_type": "code",
   "execution_count": null,
   "id": "adf87769",
   "metadata": {},
   "outputs": [],
   "source": []
  }
 ],
 "metadata": {
  "kernelspec": {
   "display_name": "Python 3",
   "language": "python",
   "name": "python3"
  },
  "language_info": {
   "codemirror_mode": {
    "name": "ipython",
    "version": 3
   },
   "file_extension": ".py",
   "mimetype": "text/x-python",
   "name": "python",
   "nbconvert_exporter": "python",
   "pygments_lexer": "ipython3",
   "version": "3.6.13"
  }
 },
 "nbformat": 4,
 "nbformat_minor": 5
}
