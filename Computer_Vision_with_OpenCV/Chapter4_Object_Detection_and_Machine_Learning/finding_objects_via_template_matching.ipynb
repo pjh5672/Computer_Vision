{
 "cells": [
  {
   "cell_type": "code",
   "execution_count": 1,
   "id": "1275c096",
   "metadata": {},
   "outputs": [],
   "source": [
    "import cv2\n",
    "import numpy as np"
   ]
  },
  {
   "cell_type": "code",
   "execution_count": 2,
   "id": "29e19f80",
   "metadata": {},
   "outputs": [],
   "source": [
    "img = cv2.imread('../data/Lena.png', cv2.IMREAD_COLOR)\n",
    "show_img = np.copy(img)\n",
    "\n",
    "mouse_pressed = False\n",
    "y = x = w = h = 0\n",
    "\n",
    "def mouse_callback(event, _x, _y, flags, param):\n",
    "    global show_img, x, y, w, h, mouse_pressed\n",
    "    \n",
    "    if event == cv2.EVENT_LBUTTONDOWN:\n",
    "        mouse_pressed = True\n",
    "        x, y = _x, _y\n",
    "        show_img = np.copy(img)\n",
    "        \n",
    "    elif event == cv2.EVENT_MOUSEMOVE:\n",
    "        if mouse_pressed:\n",
    "            show_img = np.copy(img)\n",
    "            cv2.rectangle(show_img, (x, y), (_x, _y), (0, 255, 0), 2)\n",
    "    \n",
    "    elif event == cv2.EVENT_LBUTTONUP:\n",
    "        mouse_pressed = False\n",
    "        w, h = _x - x, _y - y"
   ]
  },
  {
   "cell_type": "code",
   "execution_count": 5,
   "id": "b79a3284",
   "metadata": {},
   "outputs": [],
   "source": [
    "cv2.namedWindow('image')\n",
    "cv2.setMouseCallback('image', mouse_callback)\n",
    "\n",
    "while True:\n",
    "    cv2.imshow('image', show_img)\n",
    "    k = cv2.waitKey(1)\n",
    "    \n",
    "    if k == ord('a') and not mouse_pressed:\n",
    "        if w*h > 0:\n",
    "            break\n",
    "\n",
    "cv2.destroyAllWindows()\n",
    "\n",
    "template = np.copy(img[y:y+h, x:x+w])"
   ]
  },
  {
   "cell_type": "code",
   "execution_count": 6,
   "id": "10bd728a",
   "metadata": {},
   "outputs": [],
   "source": [
    "methods = ['cv2.TM_CCOEFF', 'cv2.TM_CCOEFF_NORMED', 'cv2.TM_CCORR', 'cv2.TM_CCORR_NORMED', 'cv2.TM_SQDIFF']\n",
    "\n",
    "show_img = np.copy(img)\n",
    "\n",
    "while True:\n",
    "    cv2.imshow('image', show_img)\n",
    "    k = cv2.waitKey()\n",
    "    \n",
    "    if k == 27:\n",
    "        break\n",
    "    elif k > 0 and chr(k).isdigit():\n",
    "        index = int(chr(k))\n",
    "        if 0 <= index < len(methods):\n",
    "            method = methods[index]\n",
    "            res = cv2.matchTemplate(img, template, eval(method))\n",
    "            res = cv2.normalize(res, None, 0, 1, cv2.NORM_MINMAX)\n",
    "            \n",
    "            if index >= methods.index('cv2.TM_SQDIFF'):\n",
    "                loc = np.where(res < 0.01)\n",
    "            else:\n",
    "                loc = np.where(res > 0.99)\n",
    "            \n",
    "            show_img = np.copy(img)\n",
    "            \n",
    "            for pt in zip(*loc[::-1]):\n",
    "                cv2.rectangle(show_img, pt, (pt[0]+w, pt[1]+h), (0,0,255), 2)\n",
    "            \n",
    "            res = cv2.resize(res, show_img.shape[:2])*255\n",
    "            res = cv2.cvtColor(res, cv2.COLOR_GRAY2BGR).astype(np.uint8)\n",
    "            \n",
    "            cv2.putText(res, method, (0, 30), cv2.FONT_HERSHEY_SIMPLEX, 1, (0,0,255), 3)\n",
    "            show_img = np.hstack((show_img, res))\n",
    "            \n",
    "cv2.destroyAllWindows()"
   ]
  },
  {
   "cell_type": "code",
   "execution_count": null,
   "id": "818ced3a",
   "metadata": {},
   "outputs": [],
   "source": []
  }
 ],
 "metadata": {
  "kernelspec": {
   "display_name": "Python 3",
   "language": "python",
   "name": "python3"
  },
  "language_info": {
   "codemirror_mode": {
    "name": "ipython",
    "version": 3
   },
   "file_extension": ".py",
   "mimetype": "text/x-python",
   "name": "python",
   "nbconvert_exporter": "python",
   "pygments_lexer": "ipython3",
   "version": "3.6.13"
  }
 },
 "nbformat": 4,
 "nbformat_minor": 5
}
