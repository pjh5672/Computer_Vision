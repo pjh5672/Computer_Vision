{
 "cells": [
  {
   "cell_type": "code",
   "execution_count": 1,
   "id": "fb1d8ae4",
   "metadata": {},
   "outputs": [],
   "source": [
    "import cv2, numpy as np"
   ]
  },
  {
   "cell_type": "code",
   "execution_count": 2,
   "id": "a748168c",
   "metadata": {},
   "outputs": [
    {
     "name": "stdout",
     "output_type": "stream",
     "text": [
      "Shape: (512, 512, 3)\n"
     ]
    }
   ],
   "source": [
    "image = cv2.imread('../data/Lena.png').astype(np.float32) / 255\n",
    "print('Shape:', image.shape)"
   ]
  },
  {
   "cell_type": "code",
   "execution_count": 6,
   "id": "3931610e",
   "metadata": {},
   "outputs": [],
   "source": [
    "image[:, :, [0, 2]] = image[:, :, [2,0]]\n",
    "cv2.imshow('blue_and_red_swapped', image)\n",
    "cv2.waitKey()\n",
    "cv2.destroyAllWindows()"
   ]
  },
  {
   "cell_type": "code",
   "execution_count": 5,
   "id": "00acd914",
   "metadata": {},
   "outputs": [],
   "source": [
    "image[:, :, [0, 2]] = image[:, :, [2, 0]]\n",
    "image[:, :, 0] = (image[:, :, 0] * 0.9).clip(0, 1)\n",
    "image[:, :, 1] = (image[:, :, 1] * 1.1).clip(0, 1)\n",
    "cv2.imshow('image', image)\n",
    "cv2.waitKey()\n",
    "cv2.destroyAllWindows()"
   ]
  },
  {
   "cell_type": "code",
   "execution_count": null,
   "id": "8fe3a854",
   "metadata": {},
   "outputs": [],
   "source": []
  }
 ],
 "metadata": {
  "kernelspec": {
   "display_name": "Python 3",
   "language": "python",
   "name": "python3"
  },
  "language_info": {
   "codemirror_mode": {
    "name": "ipython",
    "version": 3
   },
   "file_extension": ".py",
   "mimetype": "text/x-python",
   "name": "python",
   "nbconvert_exporter": "python",
   "pygments_lexer": "ipython3",
   "version": "3.6.13"
  }
 },
 "nbformat": 4,
 "nbformat_minor": 5
}
