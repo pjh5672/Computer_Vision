{
 "cells": [
  {
   "cell_type": "code",
   "execution_count": 1,
   "id": "fa649b3c",
   "metadata": {},
   "outputs": [],
   "source": [
    "import cv2\n",
    "import numpy as np"
   ]
  },
  {
   "cell_type": "code",
   "execution_count": 41,
   "id": "452e8eec",
   "metadata": {},
   "outputs": [],
   "source": [
    "img1 = cv2.imread('../data/panorama/0.jpg', cv2.IMREAD_COLOR)\n",
    "img1 = cv2.resize(img1, None, fx=0.21, fy=0.21)\n",
    "img2 = cv2.imread('../data/panorama/1.jpg', cv2.IMREAD_COLOR)\n",
    "img2 = cv2.resize(img2, None, fx=0.21, fy=0.21)\n",
    "\n",
    "images = []\n",
    "images.append(img1)\n",
    "images.append(img2)"
   ]
  },
  {
   "cell_type": "code",
   "execution_count": 53,
   "id": "8c91256a",
   "metadata": {},
   "outputs": [],
   "source": [
    "stitcher = cv2.createStitcher()\n",
    "ret, pano = stitcher.stitch(images)\n",
    "\n",
    "if ret == cv2.STITCHER_OK:\n",
    "    cv2.imshow('img1', img1)\n",
    "    cv2.imshow('img2', img2)\n",
    "    cv2.imshow('panorama', pano)\n",
    "    cv2.waitKey()\n",
    "\n",
    "    cv2.destroyAllWindows()\n",
    "else:\n",
    "    print('Error during stiching')"
   ]
  },
  {
   "cell_type": "code",
   "execution_count": null,
   "id": "6c788bd5",
   "metadata": {},
   "outputs": [],
   "source": []
  }
 ],
 "metadata": {
  "kernelspec": {
   "display_name": "Python 3",
   "language": "python",
   "name": "python3"
  },
  "language_info": {
   "codemirror_mode": {
    "name": "ipython",
    "version": 3
   },
   "file_extension": ".py",
   "mimetype": "text/x-python",
   "name": "python",
   "nbconvert_exporter": "python",
   "pygments_lexer": "ipython3",
   "version": "3.6.13"
  }
 },
 "nbformat": 4,
 "nbformat_minor": 5
}
