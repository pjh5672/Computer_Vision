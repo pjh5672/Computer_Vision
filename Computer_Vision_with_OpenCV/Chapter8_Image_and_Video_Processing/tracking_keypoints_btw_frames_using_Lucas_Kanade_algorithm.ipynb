{
 "cells": [
  {
   "cell_type": "code",
   "execution_count": 1,
   "id": "a4c64ee4",
   "metadata": {},
   "outputs": [],
   "source": [
    "import cv2\n",
    "import numpy as np"
   ]
  },
  {
   "cell_type": "code",
   "execution_count": 3,
   "id": "570ff6f0",
   "metadata": {},
   "outputs": [],
   "source": [
    "video = cv2.VideoCapture('../data/traffic.mp4')\n",
    "prev_pts = None\n",
    "prev_gray_frame = None\n",
    "tracks = None\n",
    "\n",
    "while True:\n",
    "    retval, frame = video.read()\n",
    "    if not retval: break\n",
    "    gray_frame = cv2.cvtColor(frame, cv2.COLOR_BGR2GRAY)\n",
    "    \n",
    "    if prev_pts is not None:\n",
    "        pts, status, errors = cv2.calcOpticalFlowPyrLK(\n",
    "            prev_gray_frame, gray_frame, prev_pts, None, winSize=(15,15), maxLevel=5,\n",
    "            criteria=(cv2.TERM_CRITERIA_EPS | cv2.TERM_CRITERIA_COUNT, 10, 0.03))\n",
    "        good_pts = pts[status == 1]\n",
    "        if tracks is None: tracks = good_pts\n",
    "        else: tracks = np.vstack((tracks, good_pts))\n",
    "        for p in tracks:\n",
    "            cv2.circle(frame, (p[0], p[1]), 3, (0, 255, 0), -1)\n",
    "    else:\n",
    "        pts = cv2.goodFeaturesToTrack(gray_frame, 500, 0.05, 10)\n",
    "        pts = pts.reshape(-1, 1, 2)\n",
    "    \n",
    "    prev_pts = pts\n",
    "    prev_gray_frame = gray_frame\n",
    "    \n",
    "    cv2.imshow('frame', frame)\n",
    "    key = cv2.waitKey() & 0xff\n",
    "    if key == 27: break\n",
    "    if key == ord('c'): \n",
    "        tracks = None\n",
    "        prev_pts = None"
   ]
  },
  {
   "cell_type": "code",
   "execution_count": null,
   "id": "e6022a31",
   "metadata": {},
   "outputs": [],
   "source": []
  }
 ],
 "metadata": {
  "kernelspec": {
   "display_name": "Python 3",
   "language": "python",
   "name": "python3"
  },
  "language_info": {
   "codemirror_mode": {
    "name": "ipython",
    "version": 3
   },
   "file_extension": ".py",
   "mimetype": "text/x-python",
   "name": "python",
   "nbconvert_exporter": "python",
   "pygments_lexer": "ipython3",
   "version": "3.6.13"
  }
 },
 "nbformat": 4,
 "nbformat_minor": 5
}
