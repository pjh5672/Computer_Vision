{
 "cells": [
  {
   "cell_type": "code",
   "execution_count": 1,
   "id": "55c22d9a",
   "metadata": {},
   "outputs": [],
   "source": [
    "import cv2\n",
    "import numpy as np"
   ]
  },
  {
   "cell_type": "code",
   "execution_count": 2,
   "id": "1b79d396",
   "metadata": {},
   "outputs": [],
   "source": [
    "m = 10\n",
    "n = 10\n",
    "constrains_mat = np.random.randn(m, n+1)\n",
    "weights = np.random.randn(1, n)"
   ]
  },
  {
   "cell_type": "code",
   "execution_count": 3,
   "id": "f1971dfd",
   "metadata": {},
   "outputs": [
    {
     "name": "stdout",
     "output_type": "stream",
     "text": [
      "The problem has the one solution\n"
     ]
    }
   ],
   "source": [
    "solution = np.array((n, 1), np.float32)\n",
    "res = cv2.solveLP(weights, constrains_mat, solution)\n",
    "\n",
    "if res == cv2.SOLVELP_SINGLE:\n",
    "    print('The problem has the one solution')\n",
    "elif res == cv2.SOLVELP_MULTI:\n",
    "    print('The problem has the multiple solutions')\n",
    "elif res == cv2.SOLVELP_UNBOUNDED:\n",
    "    print('The solution is unbounded')\n",
    "elif res == cv2.SOLVELP_UNFEASIBLE:\n",
    "    print('The problem doesnt\\'t have any solutions')"
   ]
  },
  {
   "cell_type": "code",
   "execution_count": null,
   "id": "f9234ffa",
   "metadata": {},
   "outputs": [],
   "source": []
  }
 ],
 "metadata": {
  "kernelspec": {
   "display_name": "Python 3",
   "language": "python",
   "name": "python3"
  },
  "language_info": {
   "codemirror_mode": {
    "name": "ipython",
    "version": 3
   },
   "file_extension": ".py",
   "mimetype": "text/x-python",
   "name": "python",
   "nbconvert_exporter": "python",
   "pygments_lexer": "ipython3",
   "version": "3.6.13"
  }
 },
 "nbformat": 4,
 "nbformat_minor": 5
}
