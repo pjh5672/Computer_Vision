{
 "cells": [
  {
   "cell_type": "code",
   "execution_count": 1,
   "id": "4bf7891f",
   "metadata": {},
   "outputs": [],
   "source": [
    "import cv2\n",
    "import numpy as np"
   ]
  },
  {
   "cell_type": "code",
   "execution_count": 2,
   "id": "23b17d68",
   "metadata": {},
   "outputs": [],
   "source": [
    "N = 4\n",
    "coeffs = np.random.randn(N+1,1)\n",
    "retval, roots = cv2.solvePoly(coeffs)"
   ]
  },
  {
   "cell_type": "code",
   "execution_count": 3,
   "id": "656fe72b",
   "metadata": {},
   "outputs": [
    {
     "name": "stdout",
     "output_type": "stream",
     "text": [
      "Root [[ 2.69940103e+00 -2.18973127e-33]] residual: [2.10942375e-15]\n",
      "Root [[ 0.22698382 -0.46210011]] residual: [0.]\n",
      "Root [[0.22698382 0.46210011]] residual: [0.]\n",
      "Root [[-1.02647802  0.        ]] residual: [6.66133815e-16]\n"
     ]
    }
   ],
   "source": [
    "for i in range(N):\n",
    "    print('Root', roots[i],'residual:', \n",
    "          np.abs(np.polyval(coeffs[::-1], roots[i][0][0]+1j*roots[i][0][1])))"
   ]
  },
  {
   "cell_type": "code",
   "execution_count": null,
   "id": "2bba7c98",
   "metadata": {},
   "outputs": [],
   "source": []
  }
 ],
 "metadata": {
  "kernelspec": {
   "display_name": "Python 3",
   "language": "python",
   "name": "python3"
  },
  "language_info": {
   "codemirror_mode": {
    "name": "ipython",
    "version": 3
   },
   "file_extension": ".py",
   "mimetype": "text/x-python",
   "name": "python",
   "nbconvert_exporter": "python",
   "pygments_lexer": "ipython3",
   "version": "3.6.13"
  }
 },
 "nbformat": 4,
 "nbformat_minor": 5
}
