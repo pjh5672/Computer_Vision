{
 "cells": [
  {
   "cell_type": "code",
   "execution_count": 1,
   "id": "c10f1f17",
   "metadata": {},
   "outputs": [],
   "source": [
    "import cv2\n",
    "import numpy as np"
   ]
  },
  {
   "cell_type": "code",
   "execution_count": 2,
   "id": "ca0e0b0b",
   "metadata": {},
   "outputs": [],
   "source": [
    "A = np.random.randn(10, 10)"
   ]
  },
  {
   "cell_type": "code",
   "execution_count": 3,
   "id": "67f9f5ba",
   "metadata": {},
   "outputs": [],
   "source": [
    "w, u, v_t = cv2.SVDecomp(A)"
   ]
  },
  {
   "cell_type": "code",
   "execution_count": 4,
   "id": "4bd02687",
   "metadata": {},
   "outputs": [
    {
     "data": {
      "text/plain": [
       "10"
      ]
     },
     "execution_count": 4,
     "metadata": {},
     "output_type": "execute_result"
    }
   ],
   "source": [
    "np.linalg.matrix_rank(A)"
   ]
  },
  {
   "cell_type": "code",
   "execution_count": 5,
   "id": "f439ca74",
   "metadata": {},
   "outputs": [],
   "source": [
    "rank = 5"
   ]
  },
  {
   "cell_type": "code",
   "execution_count": 6,
   "id": "57b67174",
   "metadata": {},
   "outputs": [],
   "source": [
    "w[rank:,0] = 0\n",
    "B = u @ np.diag(w[:,0]) @ v_t"
   ]
  },
  {
   "cell_type": "code",
   "execution_count": 7,
   "id": "7c7ace66",
   "metadata": {},
   "outputs": [
    {
     "name": "stdout",
     "output_type": "stream",
     "text": [
      "Rank before: 10\n",
      "Rank after: 5\n"
     ]
    }
   ],
   "source": [
    "print('Rank before:', np.linalg.matrix_rank(A))\n",
    "print('Rank after:', np.linalg.matrix_rank(B))"
   ]
  },
  {
   "cell_type": "code",
   "execution_count": 8,
   "id": "d0bb5a9a",
   "metadata": {},
   "outputs": [
    {
     "name": "stdout",
     "output_type": "stream",
     "text": [
      "Norm before: 10.492520562345714\n",
      "Norm after: 9.894785351986993\n"
     ]
    }
   ],
   "source": [
    "print('Norm before:', cv2.norm(A))\n",
    "print('Norm after:', cv2.norm(B))"
   ]
  }
 ],
 "metadata": {
  "kernelspec": {
   "display_name": "Python 3",
   "language": "python",
   "name": "python3"
  },
  "language_info": {
   "codemirror_mode": {
    "name": "ipython",
    "version": 3
   },
   "file_extension": ".py",
   "mimetype": "text/x-python",
   "name": "python",
   "nbconvert_exporter": "python",
   "pygments_lexer": "ipython3",
   "version": "3.6.13"
  }
 },
 "nbformat": 4,
 "nbformat_minor": 5
}
