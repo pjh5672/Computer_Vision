{
 "cells": [
  {
   "cell_type": "code",
   "execution_count": 2,
   "id": "85e9701a",
   "metadata": {},
   "outputs": [
    {
     "name": "stdout",
     "output_type": "stream",
     "text": [
      "Frame width: 0\n",
      "Frame height: 0\n"
     ]
    }
   ],
   "source": [
    "import cv2\n",
    "\n",
    "capture = cv2.VideoCapture(0)\n",
    "frame_width = int(capture.get(cv2.CAP_PROP_FRAME_WIDTH))\n",
    "frame_height = int(capture.get(cv2.CAP_PROP_FRAME_HEIGHT))\n",
    "print('Frame width:', frame_width)\n",
    "print('Frame height:', frame_height)\n",
    "\n",
    "video = cv2.VideoWriter('../data/captured_video.avi', cv2.VideoWriter_fourcc(*'X264'), 25, (frame_width, frame_height))\n",
    "\n",
    "white True:\n",
    "    has_frame, frame = capture.read()\n",
    "    \n",
    "    if not has_frame:\n",
    "        print('cannot get frame')\n",
    "        break\n",
    "        \n",
    "    video.write(frame)\n",
    "    cv2.imshow('frame', frame)\n",
    "    key = cv2.waitKey(3)\n",
    "    \n",
    "    if key == 27:\n",
    "        print('Pressed esc')\n",
    "        break\n",
    "\n",
    "capture.release()\n",
    "writer.release()\n",
    "cv2.destoryAllWindows()"
   ]
  }
 ],
 "metadata": {
  "kernelspec": {
   "display_name": "Python 3",
   "language": "python",
   "name": "python3"
  },
  "language_info": {
   "codemirror_mode": {
    "name": "ipython",
    "version": 3
   },
   "file_extension": ".py",
   "mimetype": "text/x-python",
   "name": "python",
   "nbconvert_exporter": "python",
   "pygments_lexer": "ipython3",
   "version": "3.6.13"
  }
 },
 "nbformat": 4,
 "nbformat_minor": 5
}
