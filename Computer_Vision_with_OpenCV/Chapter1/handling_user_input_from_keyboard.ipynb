{
 "cells": [
  {
   "cell_type": "code",
   "execution_count": 1,
   "id": "f2edaf08",
   "metadata": {},
   "outputs": [],
   "source": [
    "import cv2, numpy as np, random\n",
    "\n",
    "def rand_pt():\n",
    "    return (random.randrange(w), random.randrange(h))"
   ]
  },
  {
   "cell_type": "code",
   "execution_count": 2,
   "id": "0fe970a0",
   "metadata": {},
   "outputs": [],
   "source": [
    "image = cv2.imread('../data/Lena.png')\n",
    "w, h = image.shape[1], image.shape[0]\n",
    "image_to_show = np.copy(image)"
   ]
  },
  {
   "cell_type": "code",
   "execution_count": 3,
   "id": "e0955c9b",
   "metadata": {},
   "outputs": [],
   "source": [
    "finish = False\n",
    "\n",
    "while not finish:\n",
    "    cv2.imshow('result', image_to_show)\n",
    "    key = cv2.waitKey(0)\n",
    "    \n",
    "    if key == ord('p'):\n",
    "        for pt in [rand_pt() for _ in range(10)]:\n",
    "            cv2.circle(image_to_show, pt, 3, (255, 0, 0), -1)\n",
    "    elif key == ord('l'):\n",
    "        cv2.line(image_to_show, rand_pt(), rand_pt(), (0, 255, 0), 3)\n",
    "    elif key == ord('r'):\n",
    "        cv2.rectangle(image_to_show, rand_pt(), rand_pt(), (0, 0, 255), 3)\n",
    "    elif key == ord('e'):\n",
    "        cv2.ellipse(image_to_show, rand_pt(), rand_pt(), random.randrange(360), 0, 360, (255, 255, 0), 3)\n",
    "    elif key == ord('t'):\n",
    "        cv2.putText(image_to_show, 'OpenCV', rand_pt(), cv2.FONT_HERSHEY_SIMPLEX, 1, (0, 0, 0), 3)\n",
    "    elif key == ord('c'):\n",
    "        image_to_show = np.copy(image)\n",
    "    elif key == 27:\n",
    "        finish = True\n",
    "\n",
    "cv2.destroyAllWindows()"
   ]
  },
  {
   "cell_type": "code",
   "execution_count": null,
   "id": "5bc18af9",
   "metadata": {},
   "outputs": [],
   "source": []
  }
 ],
 "metadata": {
  "kernelspec": {
   "display_name": "Python 3",
   "language": "python",
   "name": "python3"
  },
  "language_info": {
   "codemirror_mode": {
    "name": "ipython",
    "version": 3
   },
   "file_extension": ".py",
   "mimetype": "text/x-python",
   "name": "python",
   "nbconvert_exporter": "python",
   "pygments_lexer": "ipython3",
   "version": "3.6.13"
  }
 },
 "nbformat": 4,
 "nbformat_minor": 5
}
