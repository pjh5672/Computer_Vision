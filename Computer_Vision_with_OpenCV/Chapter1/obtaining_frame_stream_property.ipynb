{
 "cells": [
  {
   "cell_type": "code",
   "execution_count": 2,
   "id": "e31e3999",
   "metadata": {},
   "outputs": [],
   "source": [
    "import numpy\n",
    "import cv2\n",
    "\n",
    "def print_capture_properties(*args):\n",
    "    capture = cv2.VideoCapture(*args)\n",
    "    print('Created capture:', ' '.join(map(str, args)))\n",
    "    print('Frame count:', int(capture.get(cv2.CAP_PROP_FRAME_COUNT)))\n",
    "    print('Frame width:', int(capture.get(cv2.CAP_PROP_FRAME_WIDTH)))\n",
    "    print('Frame height:', int(capture.get(cv2.CAP_PROP_FRAME_HEIGHT)))\n",
    "    print('Frame rate:', int(capture.get(cv2.CAP_PROP_FPS)))"
   ]
  },
  {
   "cell_type": "code",
   "execution_count": 3,
   "id": "13092193",
   "metadata": {},
   "outputs": [
    {
     "name": "stdout",
     "output_type": "stream",
     "text": [
      "Created capture: ../data/drop.avi\n",
      "Frame count: 182\n",
      "Frame width: 256\n",
      "Frame height: 240\n",
      "Frame rate: 30\n"
     ]
    }
   ],
   "source": [
    "print_capture_properties('../data/drop.avi')"
   ]
  },
  {
   "cell_type": "code",
   "execution_count": 4,
   "id": "9769bc95",
   "metadata": {},
   "outputs": [
    {
     "name": "stdout",
     "output_type": "stream",
     "text": [
      "Created capture: 0\n",
      "Frame count: 0\n",
      "Frame width: 0\n",
      "Frame height: 0\n",
      "Frame rate: 0\n"
     ]
    }
   ],
   "source": [
    "print_capture_properties(0)"
   ]
  },
  {
   "cell_type": "code",
   "execution_count": null,
   "id": "46881b32",
   "metadata": {},
   "outputs": [],
   "source": []
  }
 ],
 "metadata": {
  "kernelspec": {
   "display_name": "Python 3",
   "language": "python",
   "name": "python3"
  },
  "language_info": {
   "codemirror_mode": {
    "name": "ipython",
    "version": 3
   },
   "file_extension": ".py",
   "mimetype": "text/x-python",
   "name": "python",
   "nbconvert_exporter": "python",
   "pygments_lexer": "ipython3",
   "version": "3.6.13"
  }
 },
 "nbformat": 4,
 "nbformat_minor": 5
}
