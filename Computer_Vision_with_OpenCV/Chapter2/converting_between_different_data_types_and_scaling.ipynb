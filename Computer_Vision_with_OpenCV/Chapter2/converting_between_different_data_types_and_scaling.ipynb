{
 "cells": [
  {
   "cell_type": "code",
   "execution_count": 1,
   "id": "243a4aef",
   "metadata": {},
   "outputs": [],
   "source": [
    "import cv2, numpy as np"
   ]
  },
  {
   "cell_type": "code",
   "execution_count": 3,
   "id": "08f9c598",
   "metadata": {},
   "outputs": [
    {
     "name": "stdout",
     "output_type": "stream",
     "text": [
      "Shape: (512, 512, 3)\n",
      "Data type: uint8\n"
     ]
    }
   ],
   "source": [
    "image = cv2.imread('../data/Lena.png')\n",
    "print('Shape:', image.shape)\n",
    "print('Data type:', image.dtype)\n",
    "cv2.imshow('image', image)\n",
    "cv2.waitKey()\n",
    "cv2.destroyAllWindows()"
   ]
  },
  {
   "cell_type": "code",
   "execution_count": 4,
   "id": "42b304fe",
   "metadata": {},
   "outputs": [
    {
     "name": "stdout",
     "output_type": "stream",
     "text": [
      "Shape: (512, 512, 3)\n",
      "Data type: float32\n"
     ]
    }
   ],
   "source": [
    "image = image.astype(np.float32) / 255\n",
    "print('Shape:', image.shape)\n",
    "print('Data type:', image.dtype)"
   ]
  },
  {
   "cell_type": "code",
   "execution_count": 5,
   "id": "cfa47f70",
   "metadata": {},
   "outputs": [],
   "source": [
    "cv2.imshow('image', np.clip(image*2, 0, 1))\n",
    "cv2.waitKey()\n",
    "cv2.destroyAllWindows()"
   ]
  },
  {
   "cell_type": "code",
   "execution_count": 6,
   "id": "bc34db66",
   "metadata": {},
   "outputs": [
    {
     "name": "stdout",
     "output_type": "stream",
     "text": [
      "Shape: (512, 512, 3)\n",
      "Data type: uint8\n"
     ]
    }
   ],
   "source": [
    "image = (image * 255).astype(np.uint8)\n",
    "print('Shape:', image.shape)\n",
    "print('Data type:', image.dtype)\n",
    "\n",
    "cv2.imshow('image', image)\n",
    "cv2.waitKey()\n",
    "cv2.destroyAllWindows()"
   ]
  },
  {
   "cell_type": "code",
   "execution_count": null,
   "id": "155acc0f",
   "metadata": {},
   "outputs": [],
   "source": []
  }
 ],
 "metadata": {
  "kernelspec": {
   "display_name": "Python 3",
   "language": "python",
   "name": "python3"
  },
  "language_info": {
   "codemirror_mode": {
    "name": "ipython",
    "version": 3
   },
   "file_extension": ".py",
   "mimetype": "text/x-python",
   "name": "python",
   "nbconvert_exporter": "python",
   "pygments_lexer": "ipython3",
   "version": "3.6.13"
  }
 },
 "nbformat": 4,
 "nbformat_minor": 5
}
