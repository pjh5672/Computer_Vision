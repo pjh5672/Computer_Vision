{
 "cells": [
  {
   "cell_type": "code",
   "execution_count": 2,
   "id": "bde08bb0",
   "metadata": {},
   "outputs": [],
   "source": [
    "import cv2, random\n",
    "import numpy as np"
   ]
  },
  {
   "cell_type": "code",
   "execution_count": 3,
   "id": "01285302",
   "metadata": {},
   "outputs": [],
   "source": [
    "img = cv2.imread('../data/bw.png', cv2.IMREAD_GRAYSCALE)"
   ]
  },
  {
   "cell_type": "code",
   "execution_count": 6,
   "id": "db19c908",
   "metadata": {},
   "outputs": [],
   "source": [
    "contours, hierarchy = cv2.findContours(img, cv2.RETR_TREE, cv2.CHAIN_APPROX_SIMPLE)\n",
    "\n",
    "color = cv2.cvtColor(img, cv2.COLOR_GRAY2BGR)\n",
    "cv2.drawContours(color, contours, -1, (0, 255, 0), 5)\n",
    "\n",
    "cv2.imshow('contours', color)\n",
    "cv2.waitKey()\n",
    "cv2.destroyAllWindows()"
   ]
  },
  {
   "cell_type": "code",
   "execution_count": 7,
   "id": "ee7487b0",
   "metadata": {},
   "outputs": [
    {
     "name": "stdout",
     "output_type": "stream",
     "text": [
      "Area of contour is 47474.00\n",
      "Signed area of contour is -47474.00\n",
      "Signed area of contour is 47474.00\n"
     ]
    }
   ],
   "source": [
    "contour = contours[0]\n",
    "\n",
    "print('Area of contour is %.2f' % cv2.contourArea(contour))\n",
    "print('Signed area of contour is %.2f' % cv2.contourArea(contour, True))\n",
    "print('Signed area of contour is %.2f' % cv2.contourArea(contour[::-1], True))"
   ]
  },
  {
   "cell_type": "code",
   "execution_count": 8,
   "id": "7615b74b",
   "metadata": {},
   "outputs": [
    {
     "name": "stdout",
     "output_type": "stream",
     "text": [
      "Length of closed contour is 1905.29\n",
      "Length of open contour is 1897.29\n"
     ]
    }
   ],
   "source": [
    "print('Length of closed contour is %.2f' % cv2.arcLength(contour, True))\n",
    "print('Length of open contour is %.2f' % cv2.arcLength(contour, False))"
   ]
  },
  {
   "cell_type": "code",
   "execution_count": 9,
   "id": "c5df605e",
   "metadata": {},
   "outputs": [],
   "source": [
    "hull = cv2.convexHull(contour)\n",
    "cv2.drawContours(color, [hull], -1, (0, 0, 255), 3)\n",
    "\n",
    "cv2.imshow('contours', color)\n",
    "cv2.waitKey()\n",
    "cv2.destroyAllWindows()"
   ]
  },
  {
   "cell_type": "code",
   "execution_count": 10,
   "id": "6e2b2563",
   "metadata": {},
   "outputs": [
    {
     "name": "stdout",
     "output_type": "stream",
     "text": [
      "Convex status of contour is False\n",
      "Convex status of its hull is True\n"
     ]
    }
   ],
   "source": [
    "print('Convex status of contour is %s' % cv2.isContourConvex(contour))\n",
    "print('Convex status of its hull is %s' % cv2.isContourConvex(hull))"
   ]
  },
  {
   "cell_type": "code",
   "execution_count": 11,
   "id": "5fab3c67",
   "metadata": {},
   "outputs": [],
   "source": [
    "cv2.namedWindow('contours')\n",
    "\n",
    "img = np.copy(color)\n",
    "\n",
    "def trackbar_callback(value):\n",
    "    global img\n",
    "    epsilon = value * cv2.arcLength(contour, True)*0.1/255\n",
    "    approx = cv2.approxPolyDP(contour, epsilon, True)\n",
    "    img = np.copy(color)\n",
    "    cv2.drawContours(img, [approx], -1, (255, 0, 255), 3)\n",
    "\n",
    "cv2.createTrackbar('Epsilon', 'contours', 1, 255, lambda v: trackbar_callback(v))\n",
    "\n",
    "while True:\n",
    "    cv2.imshow('contours', img)\n",
    "    key = cv2.waitKey(3)\n",
    "    if key == 27:\n",
    "        break\n",
    "        \n",
    "cv2.destroyAllWindows()"
   ]
  },
  {
   "cell_type": "code",
   "execution_count": null,
   "id": "262fd575",
   "metadata": {},
   "outputs": [],
   "source": []
  }
 ],
 "metadata": {
  "kernelspec": {
   "display_name": "Python 3 (ipykernel)",
   "language": "python",
   "name": "python3"
  },
  "language_info": {
   "codemirror_mode": {
    "name": "ipython",
    "version": 3
   },
   "file_extension": ".py",
   "mimetype": "text/x-python",
   "name": "python",
   "nbconvert_exporter": "python",
   "pygments_lexer": "ipython3",
   "version": "3.9.6"
  }
 },
 "nbformat": 4,
 "nbformat_minor": 5
}
