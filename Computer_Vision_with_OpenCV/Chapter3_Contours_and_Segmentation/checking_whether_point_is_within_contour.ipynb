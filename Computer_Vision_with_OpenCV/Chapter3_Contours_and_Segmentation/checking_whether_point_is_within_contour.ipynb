{
 "cells": [
  {
   "cell_type": "code",
   "execution_count": 1,
   "id": "f117aec0",
   "metadata": {},
   "outputs": [],
   "source": [
    "import cv2, random\n",
    "import numpy as np"
   ]
  },
  {
   "cell_type": "code",
   "execution_count": 2,
   "id": "e0f2fab5",
   "metadata": {},
   "outputs": [],
   "source": [
    "img = cv2.imread('../data/bw.png', cv2.IMREAD_GRAYSCALE)"
   ]
  },
  {
   "cell_type": "code",
   "execution_count": 3,
   "id": "46da8ea8",
   "metadata": {},
   "outputs": [],
   "source": [
    "contours, hierarchy = cv2.findContours(img, cv2.RETR_TREE, cv2.CHAIN_APPROX_SIMPLE)\n",
    "\n",
    "color = cv2.cvtColor(img, cv2.COLOR_GRAY2BGR)\n",
    "cv2.drawContours(color, contours, -1, (0, 255, 0), 3)\n",
    "\n",
    "cv2.imshow('contours', color)\n",
    "cv2.waitKey()\n",
    "cv2.destroyAllWindows()"
   ]
  },
  {
   "cell_type": "code",
   "execution_count": 4,
   "id": "b5c83654",
   "metadata": {},
   "outputs": [],
   "source": [
    "contour = contours[0]\n",
    "image_to_show = np.copy(color)\n",
    "measure = True\n",
    "\n",
    "def mouse_callback(event, x, y, flags, param):\n",
    "    global contour, image_to_show\n",
    "    if event == cv2.EVENT_LBUTTONUP:\n",
    "        distance = cv2.pointPolygonTest(contour, (x,y), measure)\n",
    "        image_to_show = np.copy(color)\n",
    "        \n",
    "        if distance > 0:\n",
    "            pt_color = (0, 255, 0)\n",
    "        elif distance < 0:\n",
    "            pt_color = (0, 0, 255)\n",
    "        else:\n",
    "            pt_color = (128, 0, 128)\n",
    "        cv2.circle(image_to_show, (x,y), 5, pt_color, -1)\n",
    "        cv2.putText(image_to_show, '%.2f' % distance, (0, image_to_show.shape[1] - 5), \n",
    "                    cv2.FONT_HERSHEY_SIMPLEX, 1, (255, 255, 255))"
   ]
  },
  {
   "cell_type": "code",
   "execution_count": 5,
   "id": "8ca92fb9",
   "metadata": {},
   "outputs": [],
   "source": [
    "cv2.namedWindow('contours')\n",
    "cv2.setMouseCallback('contours', mouse_callback)\n",
    "\n",
    "while True:\n",
    "    cv2.imshow('contours', image_to_show)\n",
    "    k = cv2.waitKey(1)\n",
    "    \n",
    "    if k == ord('m'):\n",
    "        measure = not measure\n",
    "    elif k == 27:\n",
    "        break\n",
    "\n",
    "cv2.destroyAllWindows()"
   ]
  },
  {
   "cell_type": "code",
   "execution_count": null,
   "id": "50e1223a",
   "metadata": {},
   "outputs": [],
   "source": []
  }
 ],
 "metadata": {
  "kernelspec": {
   "display_name": "Python 3 (ipykernel)",
   "language": "python",
   "name": "python3"
  },
  "language_info": {
   "codemirror_mode": {
    "name": "ipython",
    "version": 3
   },
   "file_extension": ".py",
   "mimetype": "text/x-python",
   "name": "python",
   "nbconvert_exporter": "python",
   "pygments_lexer": "ipython3",
   "version": "3.9.6"
  }
 },
 "nbformat": 4,
 "nbformat_minor": 5
}
