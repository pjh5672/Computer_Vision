{
 "cells": [
  {
   "cell_type": "code",
   "execution_count": 1,
   "id": "18ebefd6",
   "metadata": {},
   "outputs": [],
   "source": [
    "import cv2\n",
    "import numpy as np"
   ]
  },
  {
   "cell_type": "code",
   "execution_count": 2,
   "id": "1441a164",
   "metadata": {},
   "outputs": [],
   "source": [
    "image = cv2.imread('../data/Lena.png', cv2.IMREAD_COLOR)\n",
    "\n",
    "# single batch\n",
    "tensor = cv2.dnn.blobFromImage(image, 1.0, (224, 224),\n",
    "                               (104, 117, 123), False, False);"
   ]
  },
  {
   "cell_type": "code",
   "execution_count": 4,
   "id": "9c634746",
   "metadata": {},
   "outputs": [],
   "source": [
    "# double batch\n",
    "tensor = cv2.dnn.blobFromImages([image, image], 1.0, (224, 224),\n",
    "                                (104, 117, 123), False, True);"
   ]
  },
  {
   "cell_type": "code",
   "execution_count": 7,
   "id": "e794fdd7",
   "metadata": {},
   "outputs": [],
   "source": [
    "net = cv2.dnn.readNetFromCaffe('../data/bvlc_googlenet.prototxt', \n",
    "                               '../data/bvlc_googlenet.caffemodel')"
   ]
  },
  {
   "cell_type": "code",
   "execution_count": 8,
   "id": "2455b3e5",
   "metadata": {},
   "outputs": [],
   "source": [
    "net.setInput(tensor);\n",
    "prob = net.forward();"
   ]
  },
  {
   "cell_type": "code",
   "execution_count": 9,
   "id": "fa119d9d",
   "metadata": {},
   "outputs": [],
   "source": [
    "net.setInput(tensor, 'data');\n",
    "prob = net.forward('prob');"
   ]
  },
  {
   "cell_type": "code",
   "execution_count": 10,
   "id": "11a8289a",
   "metadata": {},
   "outputs": [
    {
     "data": {
      "text/plain": [
       "array([[8.0656946e-08, 4.1095791e-06, 5.8275318e-06, ..., 9.4777806e-06,\n",
       "        1.4657757e-04, 4.7550937e-05],\n",
       "       [8.0656946e-08, 4.1095791e-06, 5.8275318e-06, ..., 9.4777806e-06,\n",
       "        1.4657757e-04, 4.7550937e-05]], dtype=float32)"
      ]
     },
     "execution_count": 10,
     "metadata": {},
     "output_type": "execute_result"
    }
   ],
   "source": [
    "prob"
   ]
  }
 ],
 "metadata": {
  "kernelspec": {
   "display_name": "Python 3",
   "language": "python",
   "name": "python3"
  },
  "language_info": {
   "codemirror_mode": {
    "name": "ipython",
    "version": 3
   },
   "file_extension": ".py",
   "mimetype": "text/x-python",
   "name": "python",
   "nbconvert_exporter": "python",
   "pygments_lexer": "ipython3",
   "version": "3.6.13"
  }
 },
 "nbformat": 4,
 "nbformat_minor": 5
}
