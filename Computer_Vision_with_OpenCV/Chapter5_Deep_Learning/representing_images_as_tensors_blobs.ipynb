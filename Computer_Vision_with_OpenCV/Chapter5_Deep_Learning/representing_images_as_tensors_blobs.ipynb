{
 "cells": [
  {
   "cell_type": "code",
   "execution_count": 1,
   "id": "7968a0de",
   "metadata": {},
   "outputs": [],
   "source": [
    "import cv2\n",
    "import numpy as np"
   ]
  },
  {
   "cell_type": "code",
   "execution_count": 2,
   "id": "88499ddf",
   "metadata": {},
   "outputs": [
    {
     "name": "stdout",
     "output_type": "stream",
     "text": [
      "(512, 512, 3)\n"
     ]
    }
   ],
   "source": [
    "image_bgr = cv2.imread('../data/Lena.png', cv2.IMREAD_COLOR)\n",
    "print(image_bgr.shape)"
   ]
  },
  {
   "cell_type": "code",
   "execution_count": 3,
   "id": "66f08ad7",
   "metadata": {},
   "outputs": [
    {
     "name": "stdout",
     "output_type": "stream",
     "text": [
      "(1, 3, 512, 512)\n"
     ]
    }
   ],
   "source": [
    "image_bgr_float = image_bgr.astype(np.float32)\n",
    "image_rgb = image_bgr_float[..., ::-1]\n",
    "tensor_chw = np.transpose(image_rgb, (2, 0, 1))\n",
    "tensor_nchw = tensor_chw[np.newaxis, ...]\n",
    "\n",
    "print(tensor_nchw.shape)"
   ]
  },
  {
   "cell_type": "code",
   "execution_count": null,
   "id": "9d49d0b7",
   "metadata": {},
   "outputs": [],
   "source": []
  }
 ],
 "metadata": {
  "kernelspec": {
   "display_name": "Python 3",
   "language": "python",
   "name": "python3"
  },
  "language_info": {
   "codemirror_mode": {
    "name": "ipython",
    "version": 3
   },
   "file_extension": ".py",
   "mimetype": "text/x-python",
   "name": "python",
   "nbconvert_exporter": "python",
   "pygments_lexer": "ipython3",
   "version": "3.6.13"
  }
 },
 "nbformat": 4,
 "nbformat_minor": 5
}
