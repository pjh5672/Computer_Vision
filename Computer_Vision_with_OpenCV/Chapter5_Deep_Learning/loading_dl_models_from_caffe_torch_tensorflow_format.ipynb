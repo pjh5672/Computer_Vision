{
 "cells": [
  {
   "cell_type": "code",
   "execution_count": 1,
   "id": "2a3e5aa6",
   "metadata": {},
   "outputs": [],
   "source": [
    "import cv2\n",
    "import numpy as np"
   ]
  },
  {
   "cell_type": "code",
   "execution_count": 2,
   "id": "024f9641",
   "metadata": {},
   "outputs": [],
   "source": [
    "net_caffe = cv2.dnn.readNetFromCaffe('../data/bvlc_googlenet.prototxt', \n",
    "                                     '../data/bvlc_googlenet.caffemodel')"
   ]
  },
  {
   "cell_type": "code",
   "execution_count": 3,
   "id": "fa8c3e4f",
   "metadata": {},
   "outputs": [],
   "source": [
    "net_torch = cv2.dnn.readNetFromTorch('../data/torch_enet_model.net')"
   ]
  },
  {
   "cell_type": "code",
   "execution_count": null,
   "id": "ab350da8",
   "metadata": {},
   "outputs": [],
   "source": [
    "# after torch -> onnx converting model\n",
    "net = cv.dnn.readNet(\"crnn.onnx\")\n",
    "inp = np.random.standard_normal([1, 1, 37, 256]).astype(np.float32)\n",
    "net.setInput(inp)\n",
    "out = net.forward()\n",
    "print(out.shape)"
   ]
  },
  {
   "cell_type": "code",
   "execution_count": 5,
   "id": "f867c159",
   "metadata": {},
   "outputs": [],
   "source": [
    "net_tensorflow = cv2.dnn.readNetFromTensorflow('../data/tensorflow_inception_graph.pb')"
   ]
  },
  {
   "cell_type": "code",
   "execution_count": null,
   "id": "715ac3d0",
   "metadata": {},
   "outputs": [],
   "source": []
  }
 ],
 "metadata": {
  "kernelspec": {
   "display_name": "Python 3",
   "language": "python",
   "name": "python3"
  },
  "language_info": {
   "codemirror_mode": {
    "name": "ipython",
    "version": 3
   },
   "file_extension": ".py",
   "mimetype": "text/x-python",
   "name": "python",
   "nbconvert_exporter": "python",
   "pygments_lexer": "ipython3",
   "version": "3.6.13"
  }
 },
 "nbformat": 4,
 "nbformat_minor": 5
}
