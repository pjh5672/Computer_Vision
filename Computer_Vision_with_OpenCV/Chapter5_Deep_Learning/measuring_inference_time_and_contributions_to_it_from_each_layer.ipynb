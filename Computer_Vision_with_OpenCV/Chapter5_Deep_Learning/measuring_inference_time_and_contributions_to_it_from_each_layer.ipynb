{
 "cells": [
  {
   "cell_type": "code",
   "execution_count": 1,
   "id": "3d957496",
   "metadata": {},
   "outputs": [],
   "source": [
    "import cv2\n",
    "import numpy as np"
   ]
  },
  {
   "cell_type": "code",
   "execution_count": 2,
   "id": "c8ea3119",
   "metadata": {},
   "outputs": [],
   "source": [
    "model = cv2.dnn.readNetFromCaffe('../data/bvlc_googlenet.prototxt',\n",
    "                                 '../data/bvlc_googlenet.caffemodel')"
   ]
  },
  {
   "cell_type": "code",
   "execution_count": 3,
   "id": "299bdbdd",
   "metadata": {},
   "outputs": [
    {
     "name": "stdout",
     "output_type": "stream",
     "text": [
      "gflops: 3.1904431360000003\n"
     ]
    }
   ],
   "source": [
    "print('gflops:', model.getFLOPS((1,3,224,224))*1e-9)"
   ]
  },
  {
   "cell_type": "code",
   "execution_count": 4,
   "id": "c4c99104",
   "metadata": {},
   "outputs": [
    {
     "name": "stdout",
     "output_type": "stream",
     "text": [
      "weights (mb): 27.994208 , blobs (mb): 45.92096\n"
     ]
    }
   ],
   "source": [
    "w,b = model.getMemoryConsumption((1,3,224,224))\n",
    "print('weights (mb):', w*1e-6, ', blobs (mb):', b*1e-6)"
   ]
  },
  {
   "cell_type": "code",
   "execution_count": 5,
   "id": "208403af",
   "metadata": {},
   "outputs": [],
   "source": [
    "blob = cv2.dnn.blobFromImage(np.zeros((224,224,3), np.uint8), 1, (224,224))\n",
    "model.setInput(blob)\n",
    "model.forward();"
   ]
  },
  {
   "cell_type": "code",
   "execution_count": 6,
   "id": "d04061b5",
   "metadata": {},
   "outputs": [
    {
     "name": "stdout",
     "output_type": "stream",
     "text": [
      "inference (ms): 34.965100\n"
     ]
    }
   ],
   "source": [
    "total,timings = model.getPerfProfile()\n",
    "tick2ms = 1e3/cv2.getTickFrequency()\n",
    "print('inference (ms): {:2f}'.format(total*tick2ms))"
   ]
  },
  {
   "cell_type": "code",
   "execution_count": 8,
   "id": "9238d08b",
   "metadata": {
    "scrolled": false
   },
   "outputs": [
    {
     "name": "stdout",
     "output_type": "stream",
     "text": [
      "LAYER                          TIME (ms)\n",
      "conv1/7x7_s2                   3.24\n",
      "conv1/relu_7x7                 0.00\n",
      "pool1/3x3_s2                   0.28\n",
      "pool1/norm1                    0.30\n",
      "conv2/3x3_reduce               0.26\n",
      "conv2/relu_3x3_reduce          0.00\n",
      "conv2/3x3                      3.18\n",
      "conv2/relu_3x3                 0.00\n",
      "conv2/norm2                    1.61\n",
      "pool2/3x3_s2                   0.14\n",
      "inception_3a/1x1               0.35\n",
      "inception_3a/relu_1x1          0.00\n",
      "inception_3a/3x3_reduce        0.34\n",
      "inception_3a/relu_3x3_reduce   0.00\n",
      "inception_3a/3x3               1.19\n",
      "inception_3a/relu_3x3          0.00\n",
      "inception_3a/5x5_reduce        0.07\n",
      "inception_3a/relu_5x5_reduce   0.00\n",
      "inception_3a/5x5               0.38\n",
      "inception_3a/relu_5x5          0.00\n",
      "inception_3a/pool              0.16\n",
      "inception_3a/pool_proj         0.18\n",
      "inception_3a/relu_pool_proj    0.00\n",
      "inception_3a/output            0.00\n",
      "inception_3b/1x1               0.43\n",
      "inception_3b/relu_1x1          0.00\n",
      "inception_3b/3x3_reduce        0.34\n",
      "inception_3b/relu_3x3_reduce   0.00\n",
      "inception_3b/3x3               1.81\n",
      "inception_3b/relu_3x3          0.00\n",
      "inception_3b/5x5_reduce        0.16\n",
      "inception_3b/relu_5x5_reduce   0.00\n",
      "inception_3b/5x5               0.65\n",
      "inception_3b/relu_5x5          0.00\n",
      "inception_3b/pool              0.14\n",
      "inception_3b/pool_proj         0.21\n",
      "inception_3b/relu_pool_proj    0.00\n",
      "inception_3b/output            0.00\n",
      "pool3/3x3_s2                   0.16\n",
      "inception_4a/1x1               0.42\n",
      "inception_4a/relu_1x1          0.00\n",
      "inception_4a/3x3_reduce        0.22\n",
      "inception_4a/relu_3x3_reduce   0.00\n",
      "inception_4a/3x3               0.74\n",
      "inception_4a/relu_3x3          0.00\n",
      "inception_4a/5x5_reduce        0.07\n",
      "inception_4a/relu_5x5_reduce   0.00\n",
      "inception_4a/5x5               0.17\n",
      "inception_4a/relu_5x5          0.00\n",
      "inception_4a/pool              0.18\n",
      "inception_4a/pool_proj         0.20\n",
      "inception_4a/relu_pool_proj    0.00\n",
      "inception_4a/output            0.00\n",
      "inception_4b/1x1               0.43\n",
      "inception_4b/relu_1x1          0.00\n",
      "inception_4b/3x3_reduce        0.29\n",
      "inception_4b/relu_3x3_reduce   0.00\n",
      "inception_4b/3x3               0.98\n",
      "inception_4b/relu_3x3          0.00\n",
      "inception_4b/5x5_reduce        0.08\n",
      "inception_4b/relu_5x5_reduce   0.00\n",
      "inception_4b/5x5               0.33\n",
      "inception_4b/relu_5x5          0.00\n",
      "inception_4b/pool              0.14\n",
      "inception_4b/pool_proj         0.16\n",
      "inception_4b/relu_pool_proj    0.00\n",
      "inception_4b/output            0.00\n",
      "inception_4c/1x1               0.33\n",
      "inception_4c/relu_1x1          0.00\n",
      "inception_4c/3x3_reduce        0.26\n",
      "inception_4c/relu_3x3_reduce   0.00\n",
      "inception_4c/3x3               0.87\n",
      "inception_4c/relu_3x3          0.00\n",
      "inception_4c/5x5_reduce        0.08\n",
      "inception_4c/relu_5x5_reduce   0.00\n",
      "inception_4c/5x5               0.33\n",
      "inception_4c/relu_5x5          0.00\n",
      "inception_4c/pool              0.17\n",
      "inception_4c/pool_proj         0.17\n",
      "inception_4c/relu_pool_proj    0.00\n",
      "inception_4c/output            0.00\n",
      "inception_4d/1x1               0.34\n",
      "inception_4d/relu_1x1          0.00\n",
      "inception_4d/3x3_reduce        0.28\n",
      "inception_4d/relu_3x3_reduce   0.00\n",
      "inception_4d/3x3               0.98\n",
      "inception_4d/relu_3x3          0.00\n",
      "inception_4d/5x5_reduce        0.08\n",
      "inception_4d/relu_5x5_reduce   0.00\n",
      "inception_4d/5x5               0.45\n",
      "inception_4d/relu_5x5          0.00\n",
      "inception_4d/pool              0.27\n",
      "inception_4d/pool_proj         0.18\n",
      "inception_4d/relu_pool_proj    0.00\n",
      "inception_4d/output            0.00\n",
      "inception_4e/1x1               0.66\n",
      "inception_4e/relu_1x1          0.00\n",
      "inception_4e/3x3_reduce        0.46\n",
      "inception_4e/relu_3x3_reduce   0.00\n",
      "inception_4e/3x3               1.54\n",
      "inception_4e/relu_3x3          0.00\n",
      "inception_4e/5x5_reduce        0.11\n",
      "inception_4e/relu_5x5_reduce   0.00\n",
      "inception_4e/5x5               0.55\n",
      "inception_4e/relu_5x5          0.00\n",
      "inception_4e/pool              0.18\n",
      "inception_4e/pool_proj         0.32\n",
      "inception_4e/relu_pool_proj    0.00\n",
      "inception_4e/output            0.00\n",
      "pool4/3x3_s2                   0.13\n",
      "inception_5a/1x1               0.40\n",
      "inception_5a/relu_1x1          0.00\n",
      "inception_5a/3x3_reduce        0.24\n",
      "inception_5a/relu_3x3_reduce   0.00\n",
      "inception_5a/3x3               0.83\n",
      "inception_5a/relu_3x3          0.00\n",
      "inception_5a/5x5_reduce        0.10\n",
      "inception_5a/relu_5x5_reduce   0.00\n",
      "inception_5a/5x5               0.64\n",
      "inception_5a/relu_5x5          0.00\n",
      "inception_5a/pool              0.11\n",
      "inception_5a/pool_proj         0.22\n",
      "inception_5a/relu_pool_proj    0.00\n",
      "inception_5a/output            0.00\n",
      "inception_5b/1x1               0.77\n",
      "inception_5b/relu_1x1          0.00\n",
      "inception_5b/3x3_reduce        0.36\n",
      "inception_5b/relu_3x3_reduce   0.00\n",
      "inception_5b/3x3               1.09\n",
      "inception_5b/relu_3x3          0.00\n",
      "inception_5b/5x5_reduce        0.13\n",
      "inception_5b/relu_5x5_reduce   0.00\n",
      "inception_5b/5x5               0.68\n",
      "inception_5b/relu_5x5          0.00\n",
      "inception_5b/pool              0.13\n",
      "inception_5b/pool_proj         0.32\n",
      "inception_5b/relu_pool_proj    0.00\n",
      "inception_5b/output            0.00\n",
      "pool5/7x7_s1                   0.02\n",
      "pool5/drop_7x7_s1              0.00\n",
      "loss3/classifier               0.17\n",
      "prob                           0.02\n"
     ]
    }
   ],
   "source": [
    "layer_names = model.getLayerNames()\n",
    "print('{: <30} {}'.format('LAYER', 'TIME (ms)'))\n",
    "for (i,t) in enumerate(timings):\n",
    "    print('{: <30} {:.2f}'.format(layer_names[i], t[0]*tick2ms))"
   ]
  },
  {
   "cell_type": "code",
   "execution_count": null,
   "id": "6c783559",
   "metadata": {},
   "outputs": [],
   "source": []
  }
 ],
 "metadata": {
  "kernelspec": {
   "display_name": "Python 3",
   "language": "python",
   "name": "python3"
  },
  "language_info": {
   "codemirror_mode": {
    "name": "ipython",
    "version": 3
   },
   "file_extension": ".py",
   "mimetype": "text/x-python",
   "name": "python",
   "nbconvert_exporter": "python",
   "pygments_lexer": "ipython3",
   "version": "3.6.13"
  }
 },
 "nbformat": 4,
 "nbformat_minor": 5
}
