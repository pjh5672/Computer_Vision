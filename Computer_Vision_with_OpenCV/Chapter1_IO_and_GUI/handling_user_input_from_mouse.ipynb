{
 "cells": [
  {
   "cell_type": "code",
   "execution_count": 2,
   "id": "7eb9aa17",
   "metadata": {},
   "outputs": [],
   "source": [
    "import cv2, numpy as np\n",
    "\n",
    "image = cv2.imread('../data/Lena.png')\n",
    "image_to_show = np.copy(image)\n",
    "\n",
    "mouse_pressed = False\n",
    "s_x = s_y = e_x = e_y = -1"
   ]
  },
  {
   "cell_type": "code",
   "execution_count": 3,
   "id": "041ce552",
   "metadata": {},
   "outputs": [],
   "source": [
    "def mouse_callback(event, x, y, flags, param):\n",
    "    global image_to_show, s_x, s_y, e_x, e_y, mouse_pressed\n",
    "    \n",
    "    if event == cv2.EVENT_LBUTTONDOWN:\n",
    "        mouse_pressed = True\n",
    "        s_x, s_y = x, y\n",
    "        image_to_show = np.copy(image)\n",
    "    \n",
    "    elif event == cv2.EVENT_MOUSEMOVE:\n",
    "        if mouse_pressed:\n",
    "            image_to_show = np.copy(image)\n",
    "            cv2.rectangle(image_to_show, (s_x, s_y), (x, y), (0, 255, 0), 1)\n",
    "    \n",
    "    elif event == cv2.EVENT_LBUTTONUP:\n",
    "        mouse_pressed = False\n",
    "        e_x, e_y = x, y"
   ]
  },
  {
   "cell_type": "code",
   "execution_count": 5,
   "id": "02c201c5",
   "metadata": {},
   "outputs": [],
   "source": [
    "cv2.namedWindow('image')\n",
    "cv2.setMouseCallback('image', mouse_callback)\n",
    "\n",
    "while True:\n",
    "    cv2.imshow('image', image_to_show)\n",
    "    k = cv2.waitKey(1)\n",
    "    \n",
    "    if k == ord('c'):\n",
    "        if s_y > e_y:\n",
    "            s_y, e_y = e_y, s_y\n",
    "        if s_x > e_x:\n",
    "            s_x, e_x = e_x, s_x\n",
    "        if e_y - s_y > 1 and e_x - s_x > 0:\n",
    "            image = image[s_y:e_y, s_x:e_x]\n",
    "            image_to_show = np.copy(image)\n",
    "    \n",
    "    elif k == 27:\n",
    "        break\n",
    "        \n",
    "cv2.destroyAllWindows()"
   ]
  },
  {
   "cell_type": "code",
   "execution_count": null,
   "id": "ef5dd541",
   "metadata": {},
   "outputs": [],
   "source": [
    ">"
   ]
  }
 ],
 "metadata": {
  "kernelspec": {
   "display_name": "Python 3",
   "language": "python",
   "name": "python3"
  },
  "language_info": {
   "codemirror_mode": {
    "name": "ipython",
    "version": 3
   },
   "file_extension": ".py",
   "mimetype": "text/x-python",
   "name": "python",
   "nbconvert_exporter": "python",
   "pygments_lexer": "ipython3",
   "version": "3.6.13"
  }
 },
 "nbformat": 4,
 "nbformat_minor": 5
}
