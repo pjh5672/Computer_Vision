{
 "cells": [
  {
   "cell_type": "code",
   "execution_count": 1,
   "id": "977a002b",
   "metadata": {},
   "outputs": [],
   "source": [
    "import cv2\n",
    "import numpy as np"
   ]
  },
  {
   "cell_type": "code",
   "execution_count": 5,
   "id": "c600305a",
   "metadata": {},
   "outputs": [],
   "source": [
    "win_name = \"scanning\"\n",
    "img = cv2.imread('../img/paper.jpg')\n",
    "rows, cols = img.shape[:2]\n",
    "draw = img.copy()\n",
    "pts_cnt = 0\n",
    "pts = np.zeros((4,2), dtype=np.float32)\n",
    "\n",
    "def onMouse(event, x, y, flags, param):\n",
    "    global pts_cnt\n",
    "    \n",
    "    if event == cv2.EVENT_LBUTTONDOWN:\n",
    "        cv2.circle(draw, (x,y), 10, (0,255,0), -1)\n",
    "        cv2.imshow(win_name, draw)\n",
    "        \n",
    "        pts[pts_cnt] = [x,y]\n",
    "        pts_cnt += 1\n",
    "        \n",
    "        if pts_cnt == 4:\n",
    "            sm = pts.sum(axis=1)\n",
    "            diff = np.diff(pts, axis=1)\n",
    "            \n",
    "            topLeft = pts[np.argmin(sm)]\n",
    "            bottomRight = pts[np.argmax(sm)]\n",
    "            topRight = pts[np.argmin(diff)]\n",
    "            bottomLeft = pts[np.argmax(diff)]\n",
    "            \n",
    "            pts1 = np.float32([topLeft, topRight, bottomRight, bottomLeft])\n",
    "            \n",
    "            w1 = abs(bottomRight[0] - bottomLeft[0])\n",
    "            w2 = abs(topRight[0] - topLeft[0])\n",
    "            h1 = abs(topRight[1] - bottomRight[1])\n",
    "            h2 = abs(topLeft[1] - bottomLeft[1])\n",
    "            width = max([w1, w2])\n",
    "            height = max([h1, h2])\n",
    "            \n",
    "            pts2 = np.float32([[0,0], [width-1,0],\n",
    "                               [width-1,height-1], [0,height-1]])\n",
    "            \n",
    "            mtrx = cv2.getPerspectiveTransform(pts1, pts2)\n",
    "            result = cv2.warpPerspective(img, mtrx, (width, height))\n",
    "            cv2.imshow('scanned', result)"
   ]
  },
  {
   "cell_type": "code",
   "execution_count": 6,
   "id": "d4a57b8b",
   "metadata": {},
   "outputs": [
    {
     "name": "stderr",
     "output_type": "stream",
     "text": [
      "<ipython-input-5-d3f4e7a3f538>:40: DeprecationWarning: an integer is required (got type numpy.float32).  Implicit conversion to integers using __int__ is deprecated, and may be removed in a future version of Python.\n",
      "  result = cv2.warpPerspective(img, mtrx, (width, height))\n"
     ]
    }
   ],
   "source": [
    "cv2.imshow(win_name, img)\n",
    "cv2.setMouseCallback(win_name, onMouse)\n",
    "cv2.waitKey(0)\n",
    "cv2.destroyAllWindows()    "
   ]
  },
  {
   "cell_type": "code",
   "execution_count": null,
   "id": "493f0b3e",
   "metadata": {},
   "outputs": [],
   "source": []
  }
 ],
 "metadata": {
  "kernelspec": {
   "display_name": "Python 3",
   "language": "python",
   "name": "python3"
  },
  "language_info": {
   "codemirror_mode": {
    "name": "ipython",
    "version": 3
   },
   "file_extension": ".py",
   "mimetype": "text/x-python",
   "name": "python",
   "nbconvert_exporter": "python",
   "pygments_lexer": "ipython3",
   "version": "3.8.11"
  }
 },
 "nbformat": 4,
 "nbformat_minor": 5
}
