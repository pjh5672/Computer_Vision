{
 "cells": [
  {
   "cell_type": "code",
   "execution_count": 1,
   "id": "365e63e6",
   "metadata": {},
   "outputs": [],
   "source": [
    "import cv2\n",
    "import numpy as np"
   ]
  },
  {
   "cell_type": "code",
   "execution_count": 2,
   "id": "714d29e0",
   "metadata": {},
   "outputs": [],
   "source": [
    "img = cv2.imread('../img/taekwonv1.jpg')\n",
    "img2 = img.copy()\n",
    "draw = img.copy()\n",
    "\n",
    "pts1 = np.float32([[188,14],[85,202],[294,216]])\n",
    "pts2 = np.float32([[128,40],[85,307],[306,167]])\n",
    "\n",
    "x1,y1,w1,h1 = cv2.boundingRect(pts1)\n",
    "x2,y2,w2,h2 = cv2.boundingRect(pts2)\n",
    "\n",
    "roi1 = img[y1:y1+h1,x1:x1+w1]\n",
    "roi2 = img2[y2:y2+h2,x2:x2+w2]\n",
    "\n",
    "offset1 = np.zeros((3,2), dtype=np.float32)\n",
    "offset2 = np.zeros((3,2), dtype=np.float32)\n",
    "\n",
    "for i in range(3):\n",
    "    offset1[i][0], offset1[i][1] = pts1[i][0]-x1, pts1[i][1]-y1\n",
    "    offset2[i][0], offset2[i][1] = pts2[i][0]-x2, pts2[i][1]-y2\n",
    "    \n",
    "mtrx = cv2.getAffineTransform(offset1, offset2)\n",
    "warped = cv2.warpAffine(roi1, mtrx, (w2,h2), None, \n",
    "                        cv2.INTER_LINEAR, cv2.BORDER_REFLECT101)\n",
    "\n",
    "mask = np.zeros((h2,w2), dtype=np.uint8)\n",
    "cv2.fillConvexPoly(mask, np.int32(offset2), (255))\n",
    "\n",
    "warped_masked = cv2.bitwise_and(warped, warped, mask=mask)\n",
    "roi2_masked = cv2.bitwise_and(roi2, roi2, mask=cv2.bitwise_not(mask))\n",
    "roi2_masked = roi2_masked + warped_masked\n",
    "img2[y2:y2+h2, x2:x2+w2] = roi2_masked\n",
    "\n",
    "cv2.rectangle(draw, (x1,y1), (x1+w1,y1+h1), (0,255,0), 1)\n",
    "cv2.polylines(draw, [pts1.astype(np.int32)], True, (255,0,0), 1)\n",
    "cv2.rectangle(img2, (x2,y2), (x2+w2,y2+h2), (0,255,0, 1), 1)\n",
    "\n",
    "cv2.imshow('warped triangle', img2)\n",
    "cv2.waitKey(0)\n",
    "cv2.destroyAllWindows()"
   ]
  },
  {
   "cell_type": "code",
   "execution_count": null,
   "id": "3006e918",
   "metadata": {},
   "outputs": [],
   "source": []
  }
 ],
 "metadata": {
  "kernelspec": {
   "display_name": "Python 3 (ipykernel)",
   "language": "python",
   "name": "python3"
  },
  "language_info": {
   "codemirror_mode": {
    "name": "ipython",
    "version": 3
   },
   "file_extension": ".py",
   "mimetype": "text/x-python",
   "name": "python",
   "nbconvert_exporter": "python",
   "pygments_lexer": "ipython3",
   "version": "3.9.6"
  }
 },
 "nbformat": 4,
 "nbformat_minor": 5
}
