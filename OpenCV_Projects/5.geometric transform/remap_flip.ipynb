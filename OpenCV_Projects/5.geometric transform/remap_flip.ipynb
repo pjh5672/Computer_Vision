{
 "cells": [
  {
   "cell_type": "code",
   "execution_count": 1,
   "id": "967d8e09",
   "metadata": {},
   "outputs": [],
   "source": [
    "import cv2\n",
    "import numpy as np\n",
    "import time"
   ]
  },
  {
   "cell_type": "code",
   "execution_count": 5,
   "id": "66f8ecd7",
   "metadata": {},
   "outputs": [
    {
     "name": "stdout",
     "output_type": "stream",
     "text": [
      "matrix: 0.0011529922485351562\n",
      "remap: 0.002241849899291992\n"
     ]
    }
   ],
   "source": [
    "img = cv2.imread('../img/girl.jpg')\n",
    "rows, cols = img.shape[:2]\n",
    "\n",
    "st = time.time()\n",
    "mflip = np.float32([[-1,0,cols-1],[0,-1,rows-1]])\n",
    "fliped1 = cv2.warpAffine(img, mflip, (cols,rows))\n",
    "print('matrix:', time.time()-st)\n",
    "\n",
    "st2 = time.time()\n",
    "mapy, mapx = np.indices((rows, cols), dtype=np.float32)\n",
    "mapx = cols - mapx - 1\n",
    "mapy = rows - mapy - 1\n",
    "fliped2 = cv2.remap(img, mapx, mapy, cv2.INTER_LINEAR)\n",
    "print('remap:', time.time()-st2)\n",
    "\n",
    "cv2.imshow('origin', img)\n",
    "cv2.imshow('fliped1', fliped1)\n",
    "cv2.imshow('fliped2', fliped2)\n",
    "cv2.waitKey()\n",
    "cv2.destroyAllWindows()"
   ]
  },
  {
   "cell_type": "code",
   "execution_count": null,
   "id": "83a8e589",
   "metadata": {},
   "outputs": [],
   "source": []
  }
 ],
 "metadata": {
  "kernelspec": {
   "display_name": "Python 3 (ipykernel)",
   "language": "python",
   "name": "python3"
  },
  "language_info": {
   "codemirror_mode": {
    "name": "ipython",
    "version": 3
   },
   "file_extension": ".py",
   "mimetype": "text/x-python",
   "name": "python",
   "nbconvert_exporter": "python",
   "pygments_lexer": "ipython3",
   "version": "3.9.6"
  }
 },
 "nbformat": 4,
 "nbformat_minor": 5
}
