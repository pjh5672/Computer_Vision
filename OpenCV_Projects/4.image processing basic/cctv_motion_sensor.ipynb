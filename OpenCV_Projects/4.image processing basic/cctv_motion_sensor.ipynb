{
 "cells": [
  {
   "cell_type": "code",
   "execution_count": 5,
   "id": "10892ece",
   "metadata": {},
   "outputs": [],
   "source": [
    "import cv2\n",
    "import numpy as np"
   ]
  },
  {
   "cell_type": "code",
   "execution_count": 23,
   "id": "5896dfcf",
   "metadata": {},
   "outputs": [],
   "source": [
    "thresh = 25\n",
    "max_diff = 5\n",
    "\n",
    "a, b, c = None, None, None\n",
    "cap = cv2.VideoCapture(0)\n",
    "\n",
    "if cap.isOpened():\n",
    "    ret, a = cap.read()\n",
    "    ret, b = cap.read()\n",
    "    \n",
    "    while ret:\n",
    "        ret, c = cap.read()\n",
    "        draw = c.copy()\n",
    "        \n",
    "        if not ret:\n",
    "            break\n",
    "        \n",
    "        a_gray = cv2.cvtColor(a, cv2.COLOR_BGR2GRAY)\n",
    "        b_gray = cv2.cvtColor(b, cv2.COLOR_BGR2GRAY)\n",
    "        c_gray = cv2.cvtColor(c, cv2.COLOR_BGR2GRAY)\n",
    "        \n",
    "        diff1 = cv2.absdiff(a_gray, b_gray)\n",
    "        diff2 = cv2.absdiff(b_gray, c_gray)\n",
    "        \n",
    "        ret, diff1_t = cv2.threshold(diff1, thresh, 255, cv2.THRESH_BINARY)\n",
    "        ret, diff2_t = cv2.threshold(diff2, thresh, 255, cv2.THRESH_BINARY)\n",
    "        diff = cv2.bitwise_and(diff1_t, diff2_t)\n",
    "        \n",
    "        k = cv2.getStructuringElement(cv2.MORPH_CROSS, (3,3))\n",
    "        diff = cv2.morphologyEx(diff, cv2.MORPH_OPEN, k)\n",
    "        \n",
    "        diff_cnt = cv2.countNonZero(diff)\n",
    "        \n",
    "        if diff_cnt > max_diff:\n",
    "            nzero = np.nonzero(diff)\n",
    "            cv2.rectangle(draw, (min(nzero[1]), min(nzero[0])),\n",
    "                                (max(nzero[1]), max(nzero[1])), (0,255,0), 2)\n",
    "            cv2.putText(draw, 'Motion Detected', (10,30), \n",
    "                        cv2.FONT_HERSHEY_DUPLEX, 0.5, (0,0,255))\n",
    "            \n",
    "        stacked = np.hstack((draw, cv2.cvtColor(diff, cv2.COLOR_GRAY2BGR)))\n",
    "        cv2.imshow('motion sensor', stacked)\n",
    "        \n",
    "        a = b\n",
    "        b = c\n",
    "        \n",
    "        if cv2.waitKey(1) == 27:\n",
    "            break\n",
    "            \n",
    "cap.release()\n",
    "cv2.destroyAllWindows()"
   ]
  },
  {
   "cell_type": "code",
   "execution_count": null,
   "id": "4d75160d",
   "metadata": {},
   "outputs": [],
   "source": []
  }
 ],
 "metadata": {
  "kernelspec": {
   "display_name": "Python 3",
   "language": "python",
   "name": "python3"
  },
  "language_info": {
   "codemirror_mode": {
    "name": "ipython",
    "version": 3
   },
   "file_extension": ".py",
   "mimetype": "text/x-python",
   "name": "python",
   "nbconvert_exporter": "python",
   "pygments_lexer": "ipython3",
   "version": "3.8.11"
  }
 },
 "nbformat": 4,
 "nbformat_minor": 5
}
