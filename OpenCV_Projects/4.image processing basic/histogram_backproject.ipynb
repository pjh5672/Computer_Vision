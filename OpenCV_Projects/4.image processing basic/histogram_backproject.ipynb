{
 "cells": [
  {
   "cell_type": "code",
   "execution_count": 7,
   "id": "34cf0500",
   "metadata": {},
   "outputs": [],
   "source": [
    "import cv2\n",
    "import numpy as np\n",
    "import matplotlib.pyplot as plt"
   ]
  },
  {
   "cell_type": "code",
   "execution_count": 8,
   "id": "4b4b7fc4",
   "metadata": {},
   "outputs": [],
   "source": [
    "win_name = 'back_projection'\n",
    "img = cv2.imread('../img/pump_horse.jpg')\n",
    "hsv_img = cv2.cvtColor(img, cv2.COLOR_BGR2HSV)\n",
    "draw = img.copy()\n",
    "\n",
    "def masking(bp, win_name):\n",
    "    disc = cv2.getStructuringElement(cv2.MORPH_ELLIPSE, (5,5))\n",
    "    cv2.filter2D(bp, -1, disc, bp)\n",
    "    _, mask = cv2.threshold(bp, 1, 255, cv2.THRESH_BINARY)\n",
    "    result = cv2.bitwise_and(img, img, mask=mask)\n",
    "    cv2.imshow(win_name, result)\n",
    "    \n",
    "def backProject_manual(hist_roi):\n",
    "    hist_img = cv2.calcHist([hsv_img], [0,1], None, [180,256], [0,180,0,256])\n",
    "    hist_rate = hist_roi / (hist_img + 1)\n",
    "    \n",
    "    h,s,v = cv2.split(hsv_img)\n",
    "    bp = hist_rate[h.ravel(), s.ravel()]\n",
    "    bp = np.minimum(bp, 1)\n",
    "    bp = bp.reshape(hsv_img.shape[:2])\n",
    "    cv2.normalize(bp, bp, 0, 255, cv2.NORM_MINMAX)\n",
    "    bp = bp.astype(np.uint8)\n",
    "    masking(bp, 'result_manual')\n",
    "\n",
    "def backProject_cv(hist_roi):\n",
    "    bp = cv2.calcBackProject([hsv_img], [0,1], hist_roi, [0,180,0,256], 1)\n",
    "    masking(bp, 'result_cv')"
   ]
  },
  {
   "cell_type": "code",
   "execution_count": 9,
   "id": "d90a0406",
   "metadata": {},
   "outputs": [],
   "source": [
    "(x,y,w,h) = cv2.selectROI(win_name, img, False)\n",
    "\n",
    "if w > 0 and h > 0:\n",
    "    roi = draw[y:y+h, x:x+w]\n",
    "    cv2.rectangle(draw, (x,y), (x+w, y+h), (0,0,255), 2)\n",
    "    hsv_roi = cv2.cvtColor(roi, cv2.COLOR_BGR2HSV)\n",
    "    hist_roi = cv2.calcHist([hsv_roi], [0,1], None, [180,256], [0,180,0,256])\n",
    "    backProject_manual(hist_roi)\n",
    "    backProject_cv(hist_roi)\n",
    "    \n",
    "cv2.imshow(win_name, draw)\n",
    "cv2.waitKey()\n",
    "cv2.destroyAllWindows()"
   ]
  },
  {
   "cell_type": "code",
   "execution_count": null,
   "id": "5094d48f",
   "metadata": {},
   "outputs": [],
   "source": []
  }
 ],
 "metadata": {
  "kernelspec": {
   "display_name": "Python 3",
   "language": "python",
   "name": "python3"
  },
  "language_info": {
   "codemirror_mode": {
    "name": "ipython",
    "version": 3
   },
   "file_extension": ".py",
   "mimetype": "text/x-python",
   "name": "python",
   "nbconvert_exporter": "python",
   "pygments_lexer": "ipython3",
   "version": "3.8.11"
  }
 },
 "nbformat": 4,
 "nbformat_minor": 5
}
